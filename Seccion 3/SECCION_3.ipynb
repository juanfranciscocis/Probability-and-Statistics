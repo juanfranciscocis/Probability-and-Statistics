{
  "nbformat": 4,
  "nbformat_minor": 0,
  "metadata": {
    "colab": {
      "name": "SECCION 3.ipynb",
      "provenance": [],
      "collapsed_sections": []
    },
    "kernelspec": {
      "name": "python3",
      "display_name": "Python 3"
    },
    "language_info": {
      "name": "python"
    }
  },
  "cells": [
    {
      "cell_type": "markdown",
      "metadata": {
        "id": "LRdEwDDkAmDm"
      },
      "source": [
        "#SECCIÓN 3\n",
        "\n",
        "##### DANIELA JIJON\n",
        "##### LUCIANA VALDIVIESO\n",
        "##### JUAN FRANCISCO CISNEROS"
      ]
    },
    {
      "cell_type": "markdown",
      "metadata": {
        "id": "5KUiWtPFBr-s"
      },
      "source": [
        "### IMPORTACIONES Y LIBRERIAS"
      ]
    },
    {
      "cell_type": "code",
      "execution_count": null,
      "metadata": {
        "colab": {
          "base_uri": "https://localhost:8080/"
        },
        "id": "bNee7pEHA_m8",
        "outputId": "622cff26-aa0f-4cf3-98ab-11a42c5674bb"
      },
      "outputs": [
        {
          "output_type": "stream",
          "name": "stdout",
          "text": [
            "Looking in indexes: https://pypi.org/simple, https://us-python.pkg.dev/colab-wheels/public/simple/\n",
            "Requirement already satisfied: stemgraphic in /usr/local/lib/python3.7/dist-packages (0.9.1)\n",
            "Requirement already satisfied: docopt in /usr/local/lib/python3.7/dist-packages (from stemgraphic) (0.6.2)\n",
            "Requirement already satisfied: matplotlib in /usr/local/lib/python3.7/dist-packages (from stemgraphic) (3.2.2)\n",
            "Requirement already satisfied: seaborn in /usr/local/lib/python3.7/dist-packages (from stemgraphic) (0.11.2)\n",
            "Requirement already satisfied: pandas in /usr/local/lib/python3.7/dist-packages (from stemgraphic) (1.3.5)\n",
            "Requirement already satisfied: numpy>=1.11 in /usr/local/lib/python3.7/dist-packages (from matplotlib->stemgraphic) (1.21.6)\n",
            "Requirement already satisfied: kiwisolver>=1.0.1 in /usr/local/lib/python3.7/dist-packages (from matplotlib->stemgraphic) (1.4.4)\n",
            "Requirement already satisfied: pyparsing!=2.0.4,!=2.1.2,!=2.1.6,>=2.0.1 in /usr/local/lib/python3.7/dist-packages (from matplotlib->stemgraphic) (3.0.9)\n",
            "Requirement already satisfied: cycler>=0.10 in /usr/local/lib/python3.7/dist-packages (from matplotlib->stemgraphic) (0.11.0)\n",
            "Requirement already satisfied: python-dateutil>=2.1 in /usr/local/lib/python3.7/dist-packages (from matplotlib->stemgraphic) (2.8.2)\n",
            "Requirement already satisfied: typing-extensions in /usr/local/lib/python3.7/dist-packages (from kiwisolver>=1.0.1->matplotlib->stemgraphic) (4.1.1)\n",
            "Requirement already satisfied: six>=1.5 in /usr/local/lib/python3.7/dist-packages (from python-dateutil>=2.1->matplotlib->stemgraphic) (1.15.0)\n",
            "Requirement already satisfied: pytz>=2017.3 in /usr/local/lib/python3.7/dist-packages (from pandas->stemgraphic) (2022.1)\n",
            "Requirement already satisfied: scipy>=1.0 in /usr/local/lib/python3.7/dist-packages (from seaborn->stemgraphic) (1.7.3)\n"
          ]
        }
      ],
      "source": [
        "pip install stemgraphic"
      ]
    },
    {
      "cell_type": "code",
      "execution_count": null,
      "metadata": {
        "id": "K_aphInkBx7L"
      },
      "outputs": [],
      "source": [
        "import pandas as pd\n",
        "import stemgraphic\n",
        "import matplotlib.pyplot as plt\n",
        "import math\n",
        "import random \n",
        "import statsmodels.api as sm\n",
        "import numpy as np\n",
        "from scipy.stats import uniform,binom,norm,expon\n",
        "import scipy.stats as st\n",
        "import seaborn as sb"
      ]
    },
    {
      "cell_type": "code",
      "execution_count": null,
      "metadata": {
        "colab": {
          "base_uri": "https://localhost:8080/"
        },
        "id": "6IfLduvFB63Y",
        "outputId": "b42d0eec-cb7d-4bf3-e05a-912249174691"
      },
      "outputs": [
        {
          "output_type": "stream",
          "name": "stdout",
          "text": [
            "Drive already mounted at /content/gdrive; to attempt to forcibly remount, call drive.mount(\"/content/gdrive\", force_remount=True).\n"
          ]
        }
      ],
      "source": [
        "from google.colab import drive\n",
        "drive.mount('/content/gdrive')"
      ]
    },
    {
      "cell_type": "markdown",
      "metadata": {
        "id": "m1VLCX1gCDdv"
      },
      "source": [
        "### DATOS EXCEL"
      ]
    },
    {
      "cell_type": "code",
      "execution_count": null,
      "metadata": {
        "colab": {
          "base_uri": "https://localhost:8080/",
          "height": 624
        },
        "id": "p6bFt7k-CG0F",
        "outputId": "461fc61a-38c1-4939-c19a-d80ea6c0faf6"
      },
      "outputs": [
        {
          "output_type": "execute_result",
          "data": {
            "text/plain": [
              "      ID  \\\n",
              "0      1   \n",
              "1      2   \n",
              "2      3   \n",
              "3      4   \n",
              "4      5   \n",
              "..   ...   \n",
              "197  198   \n",
              "198  199   \n",
              "199  200   \n",
              "200  201   \n",
              "201  202   \n",
              "\n",
              "     Ingresa tu numero de teléfono, será utilizado únicamente para verificar tu identidad  \\\n",
              "0                                            939683251                                      \n",
              "1                                            982094921                                      \n",
              "2                                            995485440                                      \n",
              "3                                            987159953                                      \n",
              "4                                            939603446                                      \n",
              "..                                                 ...                                      \n",
              "197                                          983077934                                      \n",
              "198                                          963981407                                      \n",
              "199                                          995932337                                      \n",
              "200                                          992746829                                      \n",
              "201                                          984842511                                      \n",
              "\n",
              "          SEXO  EDAD COLEGIO ACADEMICO  ANO DE ESTUDIO  \\\n",
              "0    Masculino    20              POLI               3   \n",
              "1     Femenino    18              POLI               2   \n",
              "2     Femenino    20              POLI               3   \n",
              "3    Masculino    19              POLI               2   \n",
              "4     Femenino    19              POLI               2   \n",
              "..         ...   ...               ...             ...   \n",
              "197   Femenino    21               JUR               4   \n",
              "198  Masculino    20              POLI               3   \n",
              "199  Masculino    18              POLI               1   \n",
              "200  Masculino    20           COCISOH               3   \n",
              "201  Masculino    22              CADE               6   \n",
              "\n",
              "     HORAS DE ESTUDIO SEMANALES   GPA  \n",
              "0                          18.0  3.66  \n",
              "1                          13.0  3.80  \n",
              "2                           8.0  3.33  \n",
              "3                          18.0  3.00  \n",
              "4                           2.5  3.50  \n",
              "..                          ...   ...  \n",
              "197                        18.0  3.90  \n",
              "198                         8.0  2.30  \n",
              "199                        13.0  2.43  \n",
              "200                         8.0  3.40  \n",
              "201                        25.0  3.50  \n",
              "\n",
              "[202 rows x 8 columns]"
            ],
            "text/html": [
              "\n",
              "  <div id=\"df-5ae6fcda-8e99-4c11-ba88-24951b35f59b\">\n",
              "    <div class=\"colab-df-container\">\n",
              "      <div>\n",
              "<style scoped>\n",
              "    .dataframe tbody tr th:only-of-type {\n",
              "        vertical-align: middle;\n",
              "    }\n",
              "\n",
              "    .dataframe tbody tr th {\n",
              "        vertical-align: top;\n",
              "    }\n",
              "\n",
              "    .dataframe thead th {\n",
              "        text-align: right;\n",
              "    }\n",
              "</style>\n",
              "<table border=\"1\" class=\"dataframe\">\n",
              "  <thead>\n",
              "    <tr style=\"text-align: right;\">\n",
              "      <th></th>\n",
              "      <th>ID</th>\n",
              "      <th>Ingresa tu numero de teléfono, será utilizado únicamente para verificar tu identidad</th>\n",
              "      <th>SEXO</th>\n",
              "      <th>EDAD</th>\n",
              "      <th>COLEGIO ACADEMICO</th>\n",
              "      <th>ANO DE ESTUDIO</th>\n",
              "      <th>HORAS DE ESTUDIO SEMANALES</th>\n",
              "      <th>GPA</th>\n",
              "    </tr>\n",
              "  </thead>\n",
              "  <tbody>\n",
              "    <tr>\n",
              "      <th>0</th>\n",
              "      <td>1</td>\n",
              "      <td>939683251</td>\n",
              "      <td>Masculino</td>\n",
              "      <td>20</td>\n",
              "      <td>POLI</td>\n",
              "      <td>3</td>\n",
              "      <td>18.0</td>\n",
              "      <td>3.66</td>\n",
              "    </tr>\n",
              "    <tr>\n",
              "      <th>1</th>\n",
              "      <td>2</td>\n",
              "      <td>982094921</td>\n",
              "      <td>Femenino</td>\n",
              "      <td>18</td>\n",
              "      <td>POLI</td>\n",
              "      <td>2</td>\n",
              "      <td>13.0</td>\n",
              "      <td>3.80</td>\n",
              "    </tr>\n",
              "    <tr>\n",
              "      <th>2</th>\n",
              "      <td>3</td>\n",
              "      <td>995485440</td>\n",
              "      <td>Femenino</td>\n",
              "      <td>20</td>\n",
              "      <td>POLI</td>\n",
              "      <td>3</td>\n",
              "      <td>8.0</td>\n",
              "      <td>3.33</td>\n",
              "    </tr>\n",
              "    <tr>\n",
              "      <th>3</th>\n",
              "      <td>4</td>\n",
              "      <td>987159953</td>\n",
              "      <td>Masculino</td>\n",
              "      <td>19</td>\n",
              "      <td>POLI</td>\n",
              "      <td>2</td>\n",
              "      <td>18.0</td>\n",
              "      <td>3.00</td>\n",
              "    </tr>\n",
              "    <tr>\n",
              "      <th>4</th>\n",
              "      <td>5</td>\n",
              "      <td>939603446</td>\n",
              "      <td>Femenino</td>\n",
              "      <td>19</td>\n",
              "      <td>POLI</td>\n",
              "      <td>2</td>\n",
              "      <td>2.5</td>\n",
              "      <td>3.50</td>\n",
              "    </tr>\n",
              "    <tr>\n",
              "      <th>...</th>\n",
              "      <td>...</td>\n",
              "      <td>...</td>\n",
              "      <td>...</td>\n",
              "      <td>...</td>\n",
              "      <td>...</td>\n",
              "      <td>...</td>\n",
              "      <td>...</td>\n",
              "      <td>...</td>\n",
              "    </tr>\n",
              "    <tr>\n",
              "      <th>197</th>\n",
              "      <td>198</td>\n",
              "      <td>983077934</td>\n",
              "      <td>Femenino</td>\n",
              "      <td>21</td>\n",
              "      <td>JUR</td>\n",
              "      <td>4</td>\n",
              "      <td>18.0</td>\n",
              "      <td>3.90</td>\n",
              "    </tr>\n",
              "    <tr>\n",
              "      <th>198</th>\n",
              "      <td>199</td>\n",
              "      <td>963981407</td>\n",
              "      <td>Masculino</td>\n",
              "      <td>20</td>\n",
              "      <td>POLI</td>\n",
              "      <td>3</td>\n",
              "      <td>8.0</td>\n",
              "      <td>2.30</td>\n",
              "    </tr>\n",
              "    <tr>\n",
              "      <th>199</th>\n",
              "      <td>200</td>\n",
              "      <td>995932337</td>\n",
              "      <td>Masculino</td>\n",
              "      <td>18</td>\n",
              "      <td>POLI</td>\n",
              "      <td>1</td>\n",
              "      <td>13.0</td>\n",
              "      <td>2.43</td>\n",
              "    </tr>\n",
              "    <tr>\n",
              "      <th>200</th>\n",
              "      <td>201</td>\n",
              "      <td>992746829</td>\n",
              "      <td>Masculino</td>\n",
              "      <td>20</td>\n",
              "      <td>COCISOH</td>\n",
              "      <td>3</td>\n",
              "      <td>8.0</td>\n",
              "      <td>3.40</td>\n",
              "    </tr>\n",
              "    <tr>\n",
              "      <th>201</th>\n",
              "      <td>202</td>\n",
              "      <td>984842511</td>\n",
              "      <td>Masculino</td>\n",
              "      <td>22</td>\n",
              "      <td>CADE</td>\n",
              "      <td>6</td>\n",
              "      <td>25.0</td>\n",
              "      <td>3.50</td>\n",
              "    </tr>\n",
              "  </tbody>\n",
              "</table>\n",
              "<p>202 rows × 8 columns</p>\n",
              "</div>\n",
              "      <button class=\"colab-df-convert\" onclick=\"convertToInteractive('df-5ae6fcda-8e99-4c11-ba88-24951b35f59b')\"\n",
              "              title=\"Convert this dataframe to an interactive table.\"\n",
              "              style=\"display:none;\">\n",
              "        \n",
              "  <svg xmlns=\"http://www.w3.org/2000/svg\" height=\"24px\"viewBox=\"0 0 24 24\"\n",
              "       width=\"24px\">\n",
              "    <path d=\"M0 0h24v24H0V0z\" fill=\"none\"/>\n",
              "    <path d=\"M18.56 5.44l.94 2.06.94-2.06 2.06-.94-2.06-.94-.94-2.06-.94 2.06-2.06.94zm-11 1L8.5 8.5l.94-2.06 2.06-.94-2.06-.94L8.5 2.5l-.94 2.06-2.06.94zm10 10l.94 2.06.94-2.06 2.06-.94-2.06-.94-.94-2.06-.94 2.06-2.06.94z\"/><path d=\"M17.41 7.96l-1.37-1.37c-.4-.4-.92-.59-1.43-.59-.52 0-1.04.2-1.43.59L10.3 9.45l-7.72 7.72c-.78.78-.78 2.05 0 2.83L4 21.41c.39.39.9.59 1.41.59.51 0 1.02-.2 1.41-.59l7.78-7.78 2.81-2.81c.8-.78.8-2.07 0-2.86zM5.41 20L4 18.59l7.72-7.72 1.47 1.35L5.41 20z\"/>\n",
              "  </svg>\n",
              "      </button>\n",
              "      \n",
              "  <style>\n",
              "    .colab-df-container {\n",
              "      display:flex;\n",
              "      flex-wrap:wrap;\n",
              "      gap: 12px;\n",
              "    }\n",
              "\n",
              "    .colab-df-convert {\n",
              "      background-color: #E8F0FE;\n",
              "      border: none;\n",
              "      border-radius: 50%;\n",
              "      cursor: pointer;\n",
              "      display: none;\n",
              "      fill: #1967D2;\n",
              "      height: 32px;\n",
              "      padding: 0 0 0 0;\n",
              "      width: 32px;\n",
              "    }\n",
              "\n",
              "    .colab-df-convert:hover {\n",
              "      background-color: #E2EBFA;\n",
              "      box-shadow: 0px 1px 2px rgba(60, 64, 67, 0.3), 0px 1px 3px 1px rgba(60, 64, 67, 0.15);\n",
              "      fill: #174EA6;\n",
              "    }\n",
              "\n",
              "    [theme=dark] .colab-df-convert {\n",
              "      background-color: #3B4455;\n",
              "      fill: #D2E3FC;\n",
              "    }\n",
              "\n",
              "    [theme=dark] .colab-df-convert:hover {\n",
              "      background-color: #434B5C;\n",
              "      box-shadow: 0px 1px 3px 1px rgba(0, 0, 0, 0.15);\n",
              "      filter: drop-shadow(0px 1px 2px rgba(0, 0, 0, 0.3));\n",
              "      fill: #FFFFFF;\n",
              "    }\n",
              "  </style>\n",
              "\n",
              "      <script>\n",
              "        const buttonEl =\n",
              "          document.querySelector('#df-5ae6fcda-8e99-4c11-ba88-24951b35f59b button.colab-df-convert');\n",
              "        buttonEl.style.display =\n",
              "          google.colab.kernel.accessAllowed ? 'block' : 'none';\n",
              "\n",
              "        async function convertToInteractive(key) {\n",
              "          const element = document.querySelector('#df-5ae6fcda-8e99-4c11-ba88-24951b35f59b');\n",
              "          const dataTable =\n",
              "            await google.colab.kernel.invokeFunction('convertToInteractive',\n",
              "                                                     [key], {});\n",
              "          if (!dataTable) return;\n",
              "\n",
              "          const docLinkHtml = 'Like what you see? Visit the ' +\n",
              "            '<a target=\"_blank\" href=https://colab.research.google.com/notebooks/data_table.ipynb>data table notebook</a>'\n",
              "            + ' to learn more about interactive tables.';\n",
              "          element.innerHTML = '';\n",
              "          dataTable['output_type'] = 'display_data';\n",
              "          await google.colab.output.renderOutput(dataTable, element);\n",
              "          const docLink = document.createElement('div');\n",
              "          docLink.innerHTML = docLinkHtml;\n",
              "          element.appendChild(docLink);\n",
              "        }\n",
              "      </script>\n",
              "    </div>\n",
              "  </div>\n",
              "  "
            ]
          },
          "metadata": {},
          "execution_count": 32
        }
      ],
      "source": [
        "data = pd.read_csv('gdrive/MyDrive/PROBABILIDAD Y ESTADISTICA/PROYECTO DE EJERCICIOS/ENCUESTA.csv')\n",
        "data"
      ]
    },
    {
      "cell_type": "markdown",
      "source": [
        "#ESTADISTICA INFERENCIAL"
      ],
      "metadata": {
        "id": "J6I2846_SPlJ"
      }
    },
    {
      "cell_type": "markdown",
      "source": [
        "###INTERVALOS DE CONFIANZA"
      ],
      "metadata": {
        "id": "lRiFUaGSATjW"
      }
    },
    {
      "cell_type": "code",
      "source": [
        "#MEDIA MUESTRAL \n",
        "mediaEdad = data['EDAD'].mean()\n",
        "mediaGpa = data['GPA'].mean()\n",
        "mediaAnoEstudio = data['ANO DE ESTUDIO'].mean()\n",
        "mediaHoraEstudio = data['HORAS DE ESTUDIO SEMANALES'].mean()\n",
        "#VALOR Z\n",
        "z = 2.57\n",
        "#DESVIACION ESTANDAR\n",
        "desEdad = data['EDAD'].std()\n",
        "desGpa = data['GPA'].std()\n",
        "desAnoEstudio = data['ANO DE ESTUDIO'].std()\n",
        "desHoraEstudio = data['HORAS DE ESTUDIO SEMANALES'].std()\n",
        "#TAMANO MUESTRA\n",
        "n = 202"
      ],
      "metadata": {
        "id": "OdivIxrI_dXD"
      },
      "execution_count": null,
      "outputs": []
    },
    {
      "cell_type": "code",
      "source": [
        "#INTERVALO EDAD\n",
        "st.t.interval(alpha = 0.99, df = n-1,loc=mediaEdad, scale = desEdad )"
      ],
      "metadata": {
        "colab": {
          "base_uri": "https://localhost:8080/"
        },
        "id": "A20yXWydAeGn",
        "outputId": "6738b82a-a10f-4998-b5c8-57e45f4899ad"
      },
      "execution_count": null,
      "outputs": [
        {
          "output_type": "execute_result",
          "data": {
            "text/plain": [
              "(14.930428110566314, 24.525017433988143)"
            ]
          },
          "metadata": {},
          "execution_count": 34
        }
      ]
    },
    {
      "cell_type": "code",
      "source": [
        "#INTERVALO GPA\n",
        "st.t.interval(alpha = 0.99, df = n-1,loc=mediaGpa, scale = desGpa )"
      ],
      "metadata": {
        "colab": {
          "base_uri": "https://localhost:8080/"
        },
        "id": "hsPn7uPqB4dV",
        "outputId": "d4c4fea8-e0fd-4efd-bb73-b4071fb9256c"
      },
      "execution_count": null,
      "outputs": [
        {
          "output_type": "execute_result",
          "data": {
            "text/plain": [
              "(2.418925521293139, 4.515312102469236)"
            ]
          },
          "metadata": {},
          "execution_count": 35
        }
      ]
    },
    {
      "cell_type": "code",
      "source": [
        "#INTERVALO ANO ESTUDIO\n",
        "st.t.interval(alpha = 0.99, df = n-1,loc=mediaAnoEstudio, scale = desAnoEstudio )"
      ],
      "metadata": {
        "colab": {
          "base_uri": "https://localhost:8080/"
        },
        "id": "7kuD9jx5CDn-",
        "outputId": "3fa7f8b0-00ba-46ce-ad63-5cc946e8324d"
      },
      "execution_count": null,
      "outputs": [
        {
          "output_type": "execute_result",
          "data": {
            "text/plain": [
              "(-0.6835432406466575, 5.3568105673793305)"
            ]
          },
          "metadata": {},
          "execution_count": 36
        }
      ]
    },
    {
      "cell_type": "code",
      "source": [
        "#INTERVALO HORA ESTUDIO\n",
        "st.t.interval(alpha = 0.99, df = n-1,loc=mediaHoraEstudio, scale = desHoraEstudio )"
      ],
      "metadata": {
        "colab": {
          "base_uri": "https://localhost:8080/"
        },
        "id": "QAjJrV7TCETs",
        "outputId": "e8c24015-329c-46fc-e4e3-0fda5800ae4b"
      },
      "execution_count": null,
      "outputs": [
        {
          "output_type": "execute_result",
          "data": {
            "text/plain": [
              "(-6.0378089389536935, 30.473452503310128)"
            ]
          },
          "metadata": {},
          "execution_count": 37
        }
      ]
    },
    {
      "cell_type": "markdown",
      "source": [
        "###PLANTEAMIENTO HIPOTESIS NULA Y ALTERNATIVA"
      ],
      "metadata": {
        "id": "kxlny5lcDs0E"
      }
    },
    {
      "cell_type": "markdown",
      "source": [
        "####HIPOTESIS NULA: MEDIA GPA MUEJERES = MEDIA GPA HOMBRES"
      ],
      "metadata": {
        "id": "TbBmffE9DyRl"
      }
    },
    {
      "cell_type": "markdown",
      "source": [
        "####HIPOTESIS ALTERNATIVA: MEDIA GPA MUJERES > MEDIA GPA HOMBRES"
      ],
      "metadata": {
        "id": "RJ3kaU2uD9d5"
      }
    },
    {
      "cell_type": "markdown",
      "source": [
        "###CALCULO ESTADISTICO DE PRUEBA"
      ],
      "metadata": {
        "id": "ZicVM9hOEPNB"
      }
    },
    {
      "cell_type": "code",
      "source": [
        "#NUESTRO ESTADISTICO DE PRUEBA ES Z\n",
        "dataSexo = data[data['SEXO']=='Femenino']\n",
        "nMujeres = len(dataSexo)\n",
        "mediaGpaMuejeres = dataSexo['GPA'].mean()\n",
        "desviacionMuejeres = dataSexo['GPA'].std()\n",
        "print('MEDIA GPA MUJERES: ', mediaGpaMuejeres )\n",
        "print('DESVIACION GPA MUJERES: ', desviacionMuejeres )\n",
        "print('N:',nMujeres)"
      ],
      "metadata": {
        "colab": {
          "base_uri": "https://localhost:8080/"
        },
        "id": "2PBID5llDxA3",
        "outputId": "b5a99a88-cbb2-4da6-b228-ff9f6866632d"
      },
      "execution_count": null,
      "outputs": [
        {
          "output_type": "stream",
          "name": "stdout",
          "text": [
            "MEDIA GPA MUJERES:  3.5437777777777777\n",
            "DESVIACION GPA MUJERES:  0.37875282865665766\n",
            "N: 99\n"
          ]
        }
      ]
    },
    {
      "cell_type": "code",
      "source": [
        "dataSexo = data[data['SEXO']=='Masculino']\n",
        "nHombres = len(dataSexo)\n",
        "mediaGpaMasculino = dataSexo['GPA'].mean()\n",
        "desviacionHombres = dataSexo['GPA'].std()\n",
        "print('MEDIA GPA HOMBRES: ', mediaGpaMasculino )\n",
        "print('DESVIACION GPA HOMBRES: ', desviacionHombres)\n",
        "print('N:',nHombres)"
      ],
      "metadata": {
        "colab": {
          "base_uri": "https://localhost:8080/"
        },
        "id": "uwAZZHEJGGLA",
        "outputId": "c0c82c7f-ba63-4384-d7be-87210f446d8d"
      },
      "execution_count": null,
      "outputs": [
        {
          "output_type": "stream",
          "name": "stdout",
          "text": [
            "MEDIA GPA HOMBRES:  3.389450980392157\n",
            "DESVIACION GPA HOMBRES:  0.4137435860518315\n",
            "N: 102\n"
          ]
        }
      ]
    },
    {
      "cell_type": "code",
      "source": [
        "Z = (mediaGpaMuejeres-mediaGpaMasculino)/((math.pow(desviacionMuejeres,2)/nMujeres)+(math.pow(desviacionHombres,2)/nHombres))\n",
        "Z"
      ],
      "metadata": {
        "colab": {
          "base_uri": "https://localhost:8080/"
        },
        "id": "dOSD4Ia_Gput",
        "outputId": "03307694-5661-42ff-b564-cc82fddb49a3"
      },
      "execution_count": null,
      "outputs": [
        {
          "output_type": "execute_result",
          "data": {
            "text/plain": [
              "49.34826379117742"
            ]
          },
          "metadata": {},
          "execution_count": 72
        }
      ]
    },
    {
      "cell_type": "markdown",
      "source": [
        "###VALOR P"
      ],
      "metadata": {
        "id": "y-2nbCuCIvuz"
      }
    },
    {
      "cell_type": "code",
      "source": [
        "#1 - TETA(Z)\n",
        "from scipy.stats import uniform,binom,norm,expon\n",
        "st.norm.sf (abs(49.34))"
      ],
      "metadata": {
        "colab": {
          "base_uri": "https://localhost:8080/"
        },
        "id": "DjkBarVFGzGA",
        "outputId": "443a3d46-b574-489b-8fb7-8d25b3bf7235"
      },
      "execution_count": null,
      "outputs": [
        {
          "output_type": "execute_result",
          "data": {
            "text/plain": [
              "0.0"
            ]
          },
          "metadata": {},
          "execution_count": 68
        }
      ]
    },
    {
      "cell_type": "markdown",
      "source": [
        "###PARA TRES NIVELES DE CONFIANZA DISTINTOS"
      ],
      "metadata": {
        "id": "ZCbp2ChSMSwe"
      }
    },
    {
      "cell_type": "code",
      "source": [
        "zAlpha = 1.65\n",
        "print(Z >= zAlpha)\n",
        "print(\"RECHAZO LA HIPOTESIS NULA CON UN ALPHA DE\", 0.05)\n",
        "zAlpha = 2.333\n",
        "print(Z >= zAlpha)\n",
        "print(\"RECHAZO LA HIPOTESIS NULA CON UN ALPHA DE\", 0.01)\n",
        "zAlpha = 3.08\n",
        "print(Z >= zAlpha)\n",
        "print(\"RECHAZO LA HIPOTESIS NULA CON UN ALPHA DE\" ,0.001)"
      ],
      "metadata": {
        "colab": {
          "base_uri": "https://localhost:8080/"
        },
        "id": "zYsYQhcmJCx8",
        "outputId": "0681d374-387b-4d14-9345-be43dddfc4d7"
      },
      "execution_count": null,
      "outputs": [
        {
          "output_type": "stream",
          "name": "stdout",
          "text": [
            "True\n",
            "RECHAZO LA HIPOTESIS NULA CON UN ALPHA DE 0.05\n",
            "True\n",
            "RECHAZO LA HIPOTESIS NULA CON UN ALPHA DE 0.01\n",
            "True\n",
            "RECHAZO LA HIPOTESIS NULA CON UN ALPHA DE 0.001\n"
          ]
        }
      ]
    },
    {
      "cell_type": "markdown",
      "source": [
        "###Elijan una variable cuantitativa, dividanla en 2 grupos y respondan la pregunta de si las varianzas son iguales entre los grupos, usando el test F"
      ],
      "metadata": {
        "id": "MUwMiu06KYgu"
      }
    },
    {
      "cell_type": "code",
      "source": [
        "#VARIABLE CUANTITATIVA ES GPA, DIVIDO EN HOMBRES Y MUMERES\n",
        "dataSexo = data[data['SEXO']=='Femenino']\n",
        "varGpaMuejeres = dataSexo['GPA'].var()\n",
        "dataSexo = data[data['SEXO']=='Masculino']\n",
        "varGpaHombres = dataSexo['GPA'].var()"
      ],
      "metadata": {
        "id": "obreqyIiKXmT"
      },
      "execution_count": null,
      "outputs": []
    },
    {
      "cell_type": "code",
      "source": [
        "F = desviacionMuejeres/desviacionHombres\n",
        "F"
      ],
      "metadata": {
        "colab": {
          "base_uri": "https://localhost:8080/"
        },
        "id": "OJRR9ObbKQ05",
        "outputId": "91fe1bac-0ce1-44d0-f094-7a5de1613be5"
      },
      "execution_count": null,
      "outputs": [
        {
          "output_type": "execute_result",
          "data": {
            "text/plain": [
              "0.9154288825862539"
            ]
          },
          "metadata": {},
          "execution_count": 80
        }
      ]
    },
    {
      "cell_type": "code",
      "source": [
        "#f de 0.025 con 98 y 101 grados de libertad\n",
        "valorCriticoIzquierda = st.f.ppf (q = 0.025, dfn = 98, dfd = 101)\n",
        "valorCriticoIzquierda"
      ],
      "metadata": {
        "colab": {
          "base_uri": "https://localhost:8080/"
        },
        "id": "bC-5gqRBODfD",
        "outputId": "8b16a812-db7a-49a9-9383-758f0751ae0a"
      },
      "execution_count": null,
      "outputs": [
        {
          "output_type": "execute_result",
          "data": {
            "text/plain": [
              "0.6730883049266166"
            ]
          },
          "metadata": {},
          "execution_count": 92
        }
      ]
    },
    {
      "cell_type": "code",
      "source": [
        "valorCriticoDerecha = 1/st.f.ppf (q = 0.025, dfn = 101, dfd = 98)\n",
        "valorCriticoDerecha"
      ],
      "metadata": {
        "colab": {
          "base_uri": "https://localhost:8080/"
        },
        "id": "tQe01SI9Po6B",
        "outputId": "bf72b945-71f4-4cab-a715-bde96e5d3451"
      },
      "execution_count": null,
      "outputs": [
        {
          "output_type": "execute_result",
          "data": {
            "text/plain": [
              "1.4839192903608127"
            ]
          },
          "metadata": {},
          "execution_count": 93
        }
      ]
    },
    {
      "cell_type": "code",
      "source": [
        "if(F<=valorCriticoIzquierda or F>=valorCriticoDerecha):\n",
        "  print(\"HAY EVIDENCIA DE DIFERENCIA SIGNIFICATIVA DE LAS VARIANZAS EN AMBAS VARIBALES DE GPA\")\n",
        "else:\n",
        "  print(\"NO HAY EVIDENCIA DE DIFERENCIA SIGNIFICATIVA DE LAS VARIANZAS EN AMBAS VARIBALES DE GPA\")"
      ],
      "metadata": {
        "colab": {
          "base_uri": "https://localhost:8080/"
        },
        "id": "fmMrPmQFQu0K",
        "outputId": "813c2fe2-6fd7-4ca0-f641-103ebf7cb4d0"
      },
      "execution_count": null,
      "outputs": [
        {
          "output_type": "stream",
          "name": "stdout",
          "text": [
            "NO HAY EVIDENCIA DE DIFERENCIA SIGNIFICATIVA DE LAS VARIANZAS EN AMBAS VARIBALES DE GPA\n"
          ]
        }
      ]
    },
    {
      "cell_type": "markdown",
      "source": [
        "#REGRESION LINEAL"
      ],
      "metadata": {
        "id": "nGwL397SSKnB"
      }
    },
    {
      "cell_type": "markdown",
      "source": [
        "### SIN PAQUETES"
      ],
      "metadata": {
        "id": "g0Uwbp2JSn5U"
      }
    },
    {
      "cell_type": "code",
      "source": [
        "#GPA DEPENDE DE LAS HORAS DE ESTUDIO\n",
        "#VARIABLE DEPENDIENTE Y = GPA\n",
        "#VARIABLE INDEPENDIENTE X = HORAS DE ESTUDIO"
      ],
      "metadata": {
        "id": "XLEai7AMRKyW"
      },
      "execution_count": null,
      "outputs": []
    },
    {
      "cell_type": "code",
      "source": [
        "#SUMATORIA DE XY\n",
        "valoresGpa = data['GPA']\n",
        "valoresHoras = data['HORAS DE ESTUDIO SEMANALES']\n",
        "sumatoriaXY = 0\n",
        "\n",
        "for i in range(202):\n",
        "  sumatoriaXY+= valoresGpa[i] * valoresHoras[i]\n",
        "print('SUMATORIA XY:' ,sumatoriaXY )"
      ],
      "metadata": {
        "colab": {
          "base_uri": "https://localhost:8080/"
        },
        "id": "Ag3mQoK-TBuZ",
        "outputId": "f1b92dcb-05b6-49f5-9058-87a16050fd91"
      },
      "execution_count": null,
      "outputs": [
        {
          "output_type": "stream",
          "name": "stdout",
          "text": [
            "SUMATORIA XY: 8687.547500000002\n"
          ]
        }
      ]
    },
    {
      "cell_type": "code",
      "source": [
        "#SUMATORIA INDIVIDUAL DE X E INDIVIDUAL DE Y\n",
        "sumatoriaX = 0\n",
        "sumatoriaY = 0\n",
        "for i in range(202):\n",
        "  sumatoriaX += valoresHoras[i]\n",
        "  sumatoriaY += valoresGpa[i]\n",
        "print('SUMATORIA X:',sumatoriaX)\n",
        "print('SUMATORIA Y:',sumatoriaY)"
      ],
      "metadata": {
        "colab": {
          "base_uri": "https://localhost:8080/"
        },
        "id": "8ddnU023TS23",
        "outputId": "4d8af741-a23c-4d10-b7bb-e2fa8ca81587"
      },
      "execution_count": null,
      "outputs": [
        {
          "output_type": "stream",
          "name": "stdout",
          "text": [
            "SUMATORIA X: 2468.0\n",
            "SUMATORIA Y: 700.358\n"
          ]
        }
      ]
    },
    {
      "cell_type": "code",
      "source": [
        "#SUMATORIA DE X^2\n",
        "sumatoriaXCuadrado = 0\n",
        "for i in range(202):\n",
        "  sumatoriaXCuadrado+= math.pow(valoresHoras[i],2)\n",
        "print('SUMATORIA DE X^2:', sumatoriaXCuadrado)"
      ],
      "metadata": {
        "colab": {
          "base_uri": "https://localhost:8080/"
        },
        "id": "EBit591AUAtQ",
        "outputId": "f8308781-668a-49f3-c2b0-eba83af55250"
      },
      "execution_count": null,
      "outputs": [
        {
          "output_type": "stream",
          "name": "stdout",
          "text": [
            "SUMATORIA DE X^2: 40059.0\n"
          ]
        }
      ]
    },
    {
      "cell_type": "code",
      "source": [
        "#SUMATORIA DE Y^2\n",
        "sumatoriaYCuadrado = 0\n",
        "for i in range(202):\n",
        "  sumatoriaYCuadrado+= math.pow(valoresGpa[i],2)\n",
        "print('SUMATORIA DE Y^2:', sumatoriaYCuadrado)"
      ],
      "metadata": {
        "colab": {
          "base_uri": "https://localhost:8080/"
        },
        "id": "l-5OsRc0W-kF",
        "outputId": "73c780b5-2187-4ff9-81ad-0cee08f6e0b8"
      },
      "execution_count": null,
      "outputs": [
        {
          "output_type": "stream",
          "name": "stdout",
          "text": [
            "SUMATORIA DE Y^2: 2460.8803060000014\n"
          ]
        }
      ]
    },
    {
      "cell_type": "code",
      "source": [
        "#SCxy\n",
        "SCxy = sumatoriaXY - ((sumatoriaX*sumatoriaY)/202)\n",
        "SCxy"
      ],
      "metadata": {
        "colab": {
          "base_uri": "https://localhost:8080/"
        },
        "id": "P86aYPiVUoWb",
        "outputId": "cdc1a330-5354-487a-9a6e-2682173e03ed"
      },
      "execution_count": null,
      "outputs": [
        {
          "output_type": "execute_result",
          "data": {
            "text/plain": [
              "130.6982722772318"
            ]
          },
          "metadata": {},
          "execution_count": 111
        }
      ]
    },
    {
      "cell_type": "code",
      "source": [
        "#Sxx\n",
        "Sxx = sumatoriaXCuadrado - ((math.pow(sumatoriaX,2))/202)\n",
        "Sxx"
      ],
      "metadata": {
        "colab": {
          "base_uri": "https://localhost:8080/"
        },
        "id": "5M-nq1jeVBuP",
        "outputId": "df7c0ad6-01a5-4184-e24a-112d656db510"
      },
      "execution_count": null,
      "outputs": [
        {
          "output_type": "execute_result",
          "data": {
            "text/plain": [
              "9905.41584158416"
            ]
          },
          "metadata": {},
          "execution_count": 117
        }
      ]
    },
    {
      "cell_type": "code",
      "source": [
        "Buno = SCxy/Sxx\n",
        "Buno"
      ],
      "metadata": {
        "colab": {
          "base_uri": "https://localhost:8080/"
        },
        "id": "5wsejnitVMi5",
        "outputId": "dbe82815-95bb-4d2e-cae3-f32a476e26da"
      },
      "execution_count": null,
      "outputs": [
        {
          "output_type": "execute_result",
          "data": {
            "text/plain": [
              "0.013194627501507237"
            ]
          },
          "metadata": {},
          "execution_count": 118
        }
      ]
    },
    {
      "cell_type": "code",
      "source": [
        "Bcero = (sumatoriaY/202) - Buno*(sumatoriaX/202)\n",
        "Bcero"
      ],
      "metadata": {
        "colab": {
          "base_uri": "https://localhost:8080/"
        },
        "id": "GFMusXB3Vg45",
        "outputId": "b62bc85a-590b-401a-f014-32e6ce5f484a"
      },
      "execution_count": null,
      "outputs": [
        {
          "output_type": "execute_result",
          "data": {
            "text/plain": [
              "3.3059092045855447"
            ]
          },
          "metadata": {},
          "execution_count": 119
        }
      ]
    },
    {
      "cell_type": "code",
      "source": [
        "y = str(Bcero) + \"+\" +  str(Buno)+\"x\"\n",
        "print(\"REGRESION LINEAL, y:\",y)"
      ],
      "metadata": {
        "colab": {
          "base_uri": "https://localhost:8080/"
        },
        "id": "J2Cj7MirVvj8",
        "outputId": "4fd62a41-5be8-4248-8755-8a13b9a24d03"
      },
      "execution_count": null,
      "outputs": [
        {
          "output_type": "stream",
          "name": "stdout",
          "text": [
            "REGRESION LINEAL, y: 3.3059092045855447+0.013194627501507237x\n"
          ]
        }
      ]
    },
    {
      "cell_type": "code",
      "source": [
        "#SUMA DE ERRORES AL CUADRADO\n",
        "SCy = sumatoriaYCuadrado - ((math.pow(sumatoriaY,2))/202)\n",
        "SCE = SCy - Buno*SCxy\n",
        "print(\"SUMA DE ERRORES AL CUADRADO: \",SCE)"
      ],
      "metadata": {
        "colab": {
          "base_uri": "https://localhost:8080/"
        },
        "id": "CLjgsMg-V6DY",
        "outputId": "34f12f05-0744-4b04-bcef-a45277b381f5"
      },
      "execution_count": null,
      "outputs": [
        {
          "output_type": "stream",
          "name": "stdout",
          "text": [
            "SUMA DE ERRORES AL CUADRADO:  30.931394130727814\n"
          ]
        }
      ]
    },
    {
      "cell_type": "code",
      "source": [
        "#R^2\n",
        "r= SCxy/math.sqrt(Sxx*SCy)\n",
        "print(\"COEFICIENTE DE CORRELACION:\",r)"
      ],
      "metadata": {
        "colab": {
          "base_uri": "https://localhost:8080/"
        },
        "id": "nAgM4B7-XQn4",
        "outputId": "c6d073e2-30ce-4a68-c236-1ddaee89e2b1"
      },
      "execution_count": null,
      "outputs": [
        {
          "output_type": "stream",
          "name": "stdout",
          "text": [
            "COEFICIENTE DE CORRELACION: 0.22980136329175238\n"
          ]
        }
      ]
    },
    {
      "cell_type": "code",
      "source": [
        "rCuadrado = math.pow(r,2)\n",
        "print(\"COEFICIENTE DE DETERMINACION:\",rCuadrado)"
      ],
      "metadata": {
        "colab": {
          "base_uri": "https://localhost:8080/"
        },
        "id": "Pk4afCVYXnl0",
        "outputId": "aa7be09a-1f81-4cf5-9058-ae3c3c0832f9"
      },
      "execution_count": null,
      "outputs": [
        {
          "output_type": "stream",
          "name": "stdout",
          "text": [
            "COEFICIENTE DE DETERMINACION: 0.05280866657074796\n"
          ]
        }
      ]
    },
    {
      "cell_type": "code",
      "source": [
        "#INTERVALO DE CONFIANZA PARA EL COEFICIENTE DE CORRELACION\n",
        "n = 202\n",
        "Zr = np.log((1+r)/(1-r))\n",
        "Zr = Zr/2\n",
        "Zr"
      ],
      "metadata": {
        "colab": {
          "base_uri": "https://localhost:8080/"
        },
        "id": "_cPZyVvsXsHn",
        "outputId": "6278d041-79e5-4842-f42f-d7428fc5245d"
      },
      "execution_count": null,
      "outputs": [
        {
          "output_type": "execute_result",
          "data": {
            "text/plain": [
              "0.23397974536802962"
            ]
          },
          "metadata": {},
          "execution_count": 140
        }
      ]
    },
    {
      "cell_type": "code",
      "source": [
        "#Con alpha de 0.05\n",
        "z = 1.96\n",
        "\n",
        "l = Zr - (z/math.sqrt(n-3))\n",
        "l"
      ],
      "metadata": {
        "colab": {
          "base_uri": "https://localhost:8080/"
        },
        "id": "Wt8ThHM8aDlA",
        "outputId": "e6197b41-7af7-42c6-fea5-60f6c59ec0a2"
      },
      "execution_count": null,
      "outputs": [
        {
          "output_type": "execute_result",
          "data": {
            "text/plain": [
              "0.09503902918639578"
            ]
          },
          "metadata": {},
          "execution_count": 141
        }
      ]
    },
    {
      "cell_type": "code",
      "source": [
        "u = Zr + (z/math.sqrt(n-3))\n",
        "u"
      ],
      "metadata": {
        "colab": {
          "base_uri": "https://localhost:8080/"
        },
        "id": "xPYuR5pQadex",
        "outputId": "0174d32a-b3a2-47c0-e367-228ae45c84cb"
      },
      "execution_count": null,
      "outputs": [
        {
          "output_type": "execute_result",
          "data": {
            "text/plain": [
              "0.37292046154966346"
            ]
          },
          "metadata": {},
          "execution_count": 142
        }
      ]
    },
    {
      "cell_type": "code",
      "source": [
        "E = math.e\n",
        "intervaloConfianza = [l,u]\n",
        "intervaloConfianza\n",
        "#EL INTERVALO CONTIENE A CERO"
      ],
      "metadata": {
        "colab": {
          "base_uri": "https://localhost:8080/"
        },
        "id": "WVco2PAybcJM",
        "outputId": "8e21add4-458d-4c6d-b2d6-021350f5604a"
      },
      "execution_count": null,
      "outputs": [
        {
          "output_type": "execute_result",
          "data": {
            "text/plain": [
              "[0.09503902918639578, 0.37292046154966346]"
            ]
          },
          "metadata": {},
          "execution_count": 149
        }
      ]
    },
    {
      "cell_type": "markdown",
      "source": [
        "###CON PAQUETES"
      ],
      "metadata": {
        "id": "DxPhd9q6c2Ix"
      }
    },
    {
      "cell_type": "code",
      "source": [
        "df = pd.DataFrame ({'GPA': data['GPA'],\n",
        "                   'HORAS DE ESTUDIO': data['HORAS DE ESTUDIO SEMANALES']})\n",
        "df"
      ],
      "metadata": {
        "colab": {
          "base_uri": "https://localhost:8080/",
          "height": 411
        },
        "id": "gxTEmekQb2PM",
        "outputId": "ca4c83ae-8b5a-4ac9-a173-7e619748a206"
      },
      "execution_count": null,
      "outputs": [
        {
          "output_type": "execute_result",
          "data": {
            "text/plain": [
              "      GPA  HORAS DE ESTUDIO\n",
              "0    3.66              18.0\n",
              "1    3.80              13.0\n",
              "2    3.33               8.0\n",
              "3    3.00              18.0\n",
              "4    3.50               2.5\n",
              "..    ...               ...\n",
              "197  3.90              18.0\n",
              "198  2.30               8.0\n",
              "199  2.43              13.0\n",
              "200  3.40               8.0\n",
              "201  3.50              25.0\n",
              "\n",
              "[202 rows x 2 columns]"
            ],
            "text/html": [
              "\n",
              "  <div id=\"df-952beb3c-03aa-499a-add6-fa8318a8d291\">\n",
              "    <div class=\"colab-df-container\">\n",
              "      <div>\n",
              "<style scoped>\n",
              "    .dataframe tbody tr th:only-of-type {\n",
              "        vertical-align: middle;\n",
              "    }\n",
              "\n",
              "    .dataframe tbody tr th {\n",
              "        vertical-align: top;\n",
              "    }\n",
              "\n",
              "    .dataframe thead th {\n",
              "        text-align: right;\n",
              "    }\n",
              "</style>\n",
              "<table border=\"1\" class=\"dataframe\">\n",
              "  <thead>\n",
              "    <tr style=\"text-align: right;\">\n",
              "      <th></th>\n",
              "      <th>GPA</th>\n",
              "      <th>HORAS DE ESTUDIO</th>\n",
              "    </tr>\n",
              "  </thead>\n",
              "  <tbody>\n",
              "    <tr>\n",
              "      <th>0</th>\n",
              "      <td>3.66</td>\n",
              "      <td>18.0</td>\n",
              "    </tr>\n",
              "    <tr>\n",
              "      <th>1</th>\n",
              "      <td>3.80</td>\n",
              "      <td>13.0</td>\n",
              "    </tr>\n",
              "    <tr>\n",
              "      <th>2</th>\n",
              "      <td>3.33</td>\n",
              "      <td>8.0</td>\n",
              "    </tr>\n",
              "    <tr>\n",
              "      <th>3</th>\n",
              "      <td>3.00</td>\n",
              "      <td>18.0</td>\n",
              "    </tr>\n",
              "    <tr>\n",
              "      <th>4</th>\n",
              "      <td>3.50</td>\n",
              "      <td>2.5</td>\n",
              "    </tr>\n",
              "    <tr>\n",
              "      <th>...</th>\n",
              "      <td>...</td>\n",
              "      <td>...</td>\n",
              "    </tr>\n",
              "    <tr>\n",
              "      <th>197</th>\n",
              "      <td>3.90</td>\n",
              "      <td>18.0</td>\n",
              "    </tr>\n",
              "    <tr>\n",
              "      <th>198</th>\n",
              "      <td>2.30</td>\n",
              "      <td>8.0</td>\n",
              "    </tr>\n",
              "    <tr>\n",
              "      <th>199</th>\n",
              "      <td>2.43</td>\n",
              "      <td>13.0</td>\n",
              "    </tr>\n",
              "    <tr>\n",
              "      <th>200</th>\n",
              "      <td>3.40</td>\n",
              "      <td>8.0</td>\n",
              "    </tr>\n",
              "    <tr>\n",
              "      <th>201</th>\n",
              "      <td>3.50</td>\n",
              "      <td>25.0</td>\n",
              "    </tr>\n",
              "  </tbody>\n",
              "</table>\n",
              "<p>202 rows × 2 columns</p>\n",
              "</div>\n",
              "      <button class=\"colab-df-convert\" onclick=\"convertToInteractive('df-952beb3c-03aa-499a-add6-fa8318a8d291')\"\n",
              "              title=\"Convert this dataframe to an interactive table.\"\n",
              "              style=\"display:none;\">\n",
              "        \n",
              "  <svg xmlns=\"http://www.w3.org/2000/svg\" height=\"24px\"viewBox=\"0 0 24 24\"\n",
              "       width=\"24px\">\n",
              "    <path d=\"M0 0h24v24H0V0z\" fill=\"none\"/>\n",
              "    <path d=\"M18.56 5.44l.94 2.06.94-2.06 2.06-.94-2.06-.94-.94-2.06-.94 2.06-2.06.94zm-11 1L8.5 8.5l.94-2.06 2.06-.94-2.06-.94L8.5 2.5l-.94 2.06-2.06.94zm10 10l.94 2.06.94-2.06 2.06-.94-2.06-.94-.94-2.06-.94 2.06-2.06.94z\"/><path d=\"M17.41 7.96l-1.37-1.37c-.4-.4-.92-.59-1.43-.59-.52 0-1.04.2-1.43.59L10.3 9.45l-7.72 7.72c-.78.78-.78 2.05 0 2.83L4 21.41c.39.39.9.59 1.41.59.51 0 1.02-.2 1.41-.59l7.78-7.78 2.81-2.81c.8-.78.8-2.07 0-2.86zM5.41 20L4 18.59l7.72-7.72 1.47 1.35L5.41 20z\"/>\n",
              "  </svg>\n",
              "      </button>\n",
              "      \n",
              "  <style>\n",
              "    .colab-df-container {\n",
              "      display:flex;\n",
              "      flex-wrap:wrap;\n",
              "      gap: 12px;\n",
              "    }\n",
              "\n",
              "    .colab-df-convert {\n",
              "      background-color: #E8F0FE;\n",
              "      border: none;\n",
              "      border-radius: 50%;\n",
              "      cursor: pointer;\n",
              "      display: none;\n",
              "      fill: #1967D2;\n",
              "      height: 32px;\n",
              "      padding: 0 0 0 0;\n",
              "      width: 32px;\n",
              "    }\n",
              "\n",
              "    .colab-df-convert:hover {\n",
              "      background-color: #E2EBFA;\n",
              "      box-shadow: 0px 1px 2px rgba(60, 64, 67, 0.3), 0px 1px 3px 1px rgba(60, 64, 67, 0.15);\n",
              "      fill: #174EA6;\n",
              "    }\n",
              "\n",
              "    [theme=dark] .colab-df-convert {\n",
              "      background-color: #3B4455;\n",
              "      fill: #D2E3FC;\n",
              "    }\n",
              "\n",
              "    [theme=dark] .colab-df-convert:hover {\n",
              "      background-color: #434B5C;\n",
              "      box-shadow: 0px 1px 3px 1px rgba(0, 0, 0, 0.15);\n",
              "      filter: drop-shadow(0px 1px 2px rgba(0, 0, 0, 0.3));\n",
              "      fill: #FFFFFF;\n",
              "    }\n",
              "  </style>\n",
              "\n",
              "      <script>\n",
              "        const buttonEl =\n",
              "          document.querySelector('#df-952beb3c-03aa-499a-add6-fa8318a8d291 button.colab-df-convert');\n",
              "        buttonEl.style.display =\n",
              "          google.colab.kernel.accessAllowed ? 'block' : 'none';\n",
              "\n",
              "        async function convertToInteractive(key) {\n",
              "          const element = document.querySelector('#df-952beb3c-03aa-499a-add6-fa8318a8d291');\n",
              "          const dataTable =\n",
              "            await google.colab.kernel.invokeFunction('convertToInteractive',\n",
              "                                                     [key], {});\n",
              "          if (!dataTable) return;\n",
              "\n",
              "          const docLinkHtml = 'Like what you see? Visit the ' +\n",
              "            '<a target=\"_blank\" href=https://colab.research.google.com/notebooks/data_table.ipynb>data table notebook</a>'\n",
              "            + ' to learn more about interactive tables.';\n",
              "          element.innerHTML = '';\n",
              "          dataTable['output_type'] = 'display_data';\n",
              "          await google.colab.output.renderOutput(dataTable, element);\n",
              "          const docLink = document.createElement('div');\n",
              "          docLink.innerHTML = docLinkHtml;\n",
              "          element.appendChild(docLink);\n",
              "        }\n",
              "      </script>\n",
              "    </div>\n",
              "  </div>\n",
              "  "
            ]
          },
          "metadata": {},
          "execution_count": 150
        }
      ]
    },
    {
      "cell_type": "code",
      "source": [
        "#define la variable de respuesta\n",
        "y = df ['GPA']\n",
        "\n",
        "#definir variables predictoras\n",
        "x = df ['HORAS DE ESTUDIO']"
      ],
      "metadata": {
        "id": "iAivDQvydRY-"
      },
      "execution_count": null,
      "outputs": []
    },
    {
      "cell_type": "code",
      "source": [
        "#add constante a las variables predictoras\n",
        "x = sm.add_constant (x)"
      ],
      "metadata": {
        "colab": {
          "base_uri": "https://localhost:8080/"
        },
        "id": "nPCwX-jZdktm",
        "outputId": "a8b31b94-8d6a-4b66-ff68-01f2081d9309"
      },
      "execution_count": null,
      "outputs": [
        {
          "output_type": "stream",
          "name": "stderr",
          "text": [
            "/usr/local/lib/python3.7/dist-packages/statsmodels/tsa/tsatools.py:117: FutureWarning:\n",
            "\n",
            "In a future version of pandas all arguments of concat except for the argument 'objs' will be keyword-only\n",
            "\n"
          ]
        }
      ]
    },
    {
      "cell_type": "code",
      "source": [
        "#fit modelo de modelo de regresión lineal\n",
        "modelo = sm.OLS (y, x) .fit ()"
      ],
      "metadata": {
        "id": "nhqlhLycdsMy"
      },
      "execution_count": null,
      "outputs": []
    },
    {
      "cell_type": "code",
      "source": [
        "#ver impresión de resumen del modelo\n",
        "(modelo.summary())"
      ],
      "metadata": {
        "colab": {
          "base_uri": "https://localhost:8080/",
          "height": 432
        },
        "id": "SwaQBw2pd0k-",
        "outputId": "be75ee51-a103-4007-c118-42c54b081ee7"
      },
      "execution_count": null,
      "outputs": [
        {
          "output_type": "execute_result",
          "data": {
            "text/plain": [
              "<class 'statsmodels.iolib.summary.Summary'>\n",
              "\"\"\"\n",
              "                            OLS Regression Results                            \n",
              "==============================================================================\n",
              "Dep. Variable:                    GPA   R-squared:                       0.053\n",
              "Model:                            OLS   Adj. R-squared:                  0.048\n",
              "Method:                 Least Squares   F-statistic:                     11.15\n",
              "Date:                Wed, 20 Jul 2022   Prob (F-statistic):            0.00100\n",
              "Time:                        21:16:05   Log-Likelihood:                -97.099\n",
              "No. Observations:                 202   AIC:                             198.2\n",
              "Df Residuals:                     200   BIC:                             204.8\n",
              "Df Model:                           1                                         \n",
              "Covariance Type:            nonrobust                                         \n",
              "====================================================================================\n",
              "                       coef    std err          t      P>|t|      [0.025      0.975]\n",
              "------------------------------------------------------------------------------------\n",
              "const                3.3059      0.056     59.411      0.000       3.196       3.416\n",
              "HORAS DE ESTUDIO     0.0132      0.004      3.339      0.001       0.005       0.021\n",
              "==============================================================================\n",
              "Omnibus:                       21.165   Durbin-Watson:                   1.836\n",
              "Prob(Omnibus):                  0.000   Jarque-Bera (JB):               24.499\n",
              "Skew:                          -0.792   Prob(JB):                     4.79e-06\n",
              "Kurtosis:                       3.631   Cond. No.                         28.4\n",
              "==============================================================================\n",
              "\n",
              "Warnings:\n",
              "[1] Standard Errors assume that the covariance matrix of the errors is correctly specified.\n",
              "\"\"\""
            ],
            "text/html": [
              "<table class=\"simpletable\">\n",
              "<caption>OLS Regression Results</caption>\n",
              "<tr>\n",
              "  <th>Dep. Variable:</th>           <td>GPA</td>       <th>  R-squared:         </th> <td>   0.053</td>\n",
              "</tr>\n",
              "<tr>\n",
              "  <th>Model:</th>                   <td>OLS</td>       <th>  Adj. R-squared:    </th> <td>   0.048</td>\n",
              "</tr>\n",
              "<tr>\n",
              "  <th>Method:</th>             <td>Least Squares</td>  <th>  F-statistic:       </th> <td>   11.15</td>\n",
              "</tr>\n",
              "<tr>\n",
              "  <th>Date:</th>             <td>Wed, 20 Jul 2022</td> <th>  Prob (F-statistic):</th>  <td>0.00100</td>\n",
              "</tr>\n",
              "<tr>\n",
              "  <th>Time:</th>                 <td>21:16:05</td>     <th>  Log-Likelihood:    </th> <td> -97.099</td>\n",
              "</tr>\n",
              "<tr>\n",
              "  <th>No. Observations:</th>      <td>   202</td>      <th>  AIC:               </th> <td>   198.2</td>\n",
              "</tr>\n",
              "<tr>\n",
              "  <th>Df Residuals:</th>          <td>   200</td>      <th>  BIC:               </th> <td>   204.8</td>\n",
              "</tr>\n",
              "<tr>\n",
              "  <th>Df Model:</th>              <td>     1</td>      <th>                     </th>     <td> </td>   \n",
              "</tr>\n",
              "<tr>\n",
              "  <th>Covariance Type:</th>      <td>nonrobust</td>    <th>                     </th>     <td> </td>   \n",
              "</tr>\n",
              "</table>\n",
              "<table class=\"simpletable\">\n",
              "<tr>\n",
              "          <td></td>            <th>coef</th>     <th>std err</th>      <th>t</th>      <th>P>|t|</th>  <th>[0.025</th>    <th>0.975]</th>  \n",
              "</tr>\n",
              "<tr>\n",
              "  <th>const</th>            <td>    3.3059</td> <td>    0.056</td> <td>   59.411</td> <td> 0.000</td> <td>    3.196</td> <td>    3.416</td>\n",
              "</tr>\n",
              "<tr>\n",
              "  <th>HORAS DE ESTUDIO</th> <td>    0.0132</td> <td>    0.004</td> <td>    3.339</td> <td> 0.001</td> <td>    0.005</td> <td>    0.021</td>\n",
              "</tr>\n",
              "</table>\n",
              "<table class=\"simpletable\">\n",
              "<tr>\n",
              "  <th>Omnibus:</th>       <td>21.165</td> <th>  Durbin-Watson:     </th> <td>   1.836</td>\n",
              "</tr>\n",
              "<tr>\n",
              "  <th>Prob(Omnibus):</th> <td> 0.000</td> <th>  Jarque-Bera (JB):  </th> <td>  24.499</td>\n",
              "</tr>\n",
              "<tr>\n",
              "  <th>Skew:</th>          <td>-0.792</td> <th>  Prob(JB):          </th> <td>4.79e-06</td>\n",
              "</tr>\n",
              "<tr>\n",
              "  <th>Kurtosis:</th>      <td> 3.631</td> <th>  Cond. No.          </th> <td>    28.4</td>\n",
              "</tr>\n",
              "</table><br/><br/>Warnings:<br/>[1] Standard Errors assume that the covariance matrix of the errors is correctly specified."
            ]
          },
          "metadata": {},
          "execution_count": 157
        }
      ]
    },
    {
      "cell_type": "code",
      "source": [
        "#CALCULO DE R\n",
        "r= SCxy/math.sqrt(Sxx*SCy)\n",
        "print(\"COEFICIENTE DE CORRELACION:\",r)"
      ],
      "metadata": {
        "colab": {
          "base_uri": "https://localhost:8080/"
        },
        "id": "9NwYk-iDlIdU",
        "outputId": "772acafd-572f-4c0b-84c9-09801f2b167a"
      },
      "execution_count": null,
      "outputs": [
        {
          "output_type": "stream",
          "name": "stdout",
          "text": [
            "COEFICIENTE DE CORRELACION: 0.22980136329175238\n"
          ]
        }
      ]
    },
    {
      "cell_type": "code",
      "source": [
        "sb.regplot(x = \"HORAS DE ESTUDIO\", \n",
        "            y = \"GPA\",  \n",
        "            ci = None, \n",
        "            data = df) "
      ],
      "metadata": {
        "colab": {
          "base_uri": "https://localhost:8080/",
          "height": 295
        },
        "id": "akJomj_Hhl2j",
        "outputId": "1ae25c97-26b0-45ca-8726-6754ffcec74d"
      },
      "execution_count": null,
      "outputs": [
        {
          "output_type": "execute_result",
          "data": {
            "text/plain": [
              "<matplotlib.axes._subplots.AxesSubplot at 0x7f6e4de7f550>"
            ]
          },
          "metadata": {},
          "execution_count": 175
        },
        {
          "output_type": "display_data",
          "data": {
            "text/plain": [
              "<Figure size 432x288 with 1 Axes>"
            ],
            "image/png": "[encoded data removed]"
          },
          "metadata": {
            "needs_background": "light"
          }
        }
      ]
    },
    {
      "cell_type": "code",
      "source": [
        ""
      ],
      "metadata": {
        "id": "3WQjF1mMk146"
      },
      "execution_count": null,
      "outputs": []
    }
  ]
}