{
  "nbformat": 4,
  "nbformat_minor": 0,
  "metadata": {
    "colab": {
      "name": "Sección1-2.ipynb",
      "provenance": [],
      "collapsed_sections": []
    },
    "kernelspec": {
      "name": "python3",
      "display_name": "Python 3"
    },
    "language_info": {
      "name": "python"
    }
  },
  "cells": [
    {
      "cell_type": "markdown",
      "source": [
        "#SECCIÓN 1\n",
        "\n",
        "##### DANIELA JIJON\n",
        "##### LUCIANA VALDIVIESO\n",
        "##### JUAN FRANCISCO CISNEROS"
      ],
      "metadata": {
        "id": "LRdEwDDkAmDm"
      }
    },
    {
      "cell_type": "markdown",
      "source": [
        "### IMPORTACIONES Y LIBRERIAS"
      ],
      "metadata": {
        "id": "5KUiWtPFBr-s"
      }
    },
    {
      "cell_type": "code",
      "source": [
        "pip install stemgraphic"
      ],
      "metadata": {
        "id": "bNee7pEHA_m8"
      },
      "execution_count": null,
      "outputs": []
    },
    {
      "cell_type": "code",
      "source": [
        "import pandas as pd\n",
        "import stemgraphic\n",
        "import matplotlib.pyplot as plt\n",
        "import math\n",
        "\n",
        "\n",
        "import numpy as np"
      ],
      "metadata": {
        "id": "K_aphInkBx7L"
      },
      "execution_count": null,
      "outputs": []
    },
    {
      "cell_type": "code",
      "source": [
        "from google.colab import drive\n",
        "drive.mount('/content/gdrive')"
      ],
      "metadata": {
        "colab": {
          "base_uri": "https://localhost:8080/"
        },
        "id": "6IfLduvFB63Y",
        "outputId": "5bad8a1d-0f86-47fa-fff2-4e61b0aed50a"
      },
      "execution_count": null,
      "outputs": [
        {
          "output_type": "stream",
          "name": "stdout",
          "text": [
            "Mounted at /content/gdrive\n"
          ]
        }
      ]
    },
    {
      "cell_type": "markdown",
      "source": [
        "### DATOS EXCEL"
      ],
      "metadata": {
        "id": "m1VLCX1gCDdv"
      }
    },
    {
      "cell_type": "code",
      "source": [
        "data = pd.read_csv('gdrive/MyDrive/PROBABILIDAD Y ESTADISTICA/PROYECTO DE EJERCICIOS/ENCUESTA.csv')\n",
        "data"
      ],
      "metadata": {
        "id": "p6bFt7k-CG0F",
        "colab": {
          "base_uri": "https://localhost:8080/",
          "height": 485
        },
        "outputId": "c7e1044c-abf2-464a-bf32-8713004dab55"
      },
      "execution_count": null,
      "outputs": [
        {
          "output_type": "execute_result",
          "data": {
            "text/plain": [
              "      ID  \\\n",
              "0      1   \n",
              "1      2   \n",
              "2      3   \n",
              "3      4   \n",
              "4      5   \n",
              "..   ...   \n",
              "197  198   \n",
              "198  199   \n",
              "199  200   \n",
              "200  201   \n",
              "201  202   \n",
              "\n",
              "     Ingresa tu numero de teléfono, será utilizado únicamente para verificar tu identidad  \\\n",
              "0                                            939683251                                      \n",
              "1                                            982094921                                      \n",
              "2                                            995485440                                      \n",
              "3                                            987159953                                      \n",
              "4                                            939603446                                      \n",
              "..                                                 ...                                      \n",
              "197                                          983077934                                      \n",
              "198                                          963981407                                      \n",
              "199                                          995932337                                      \n",
              "200                                          992746829                                      \n",
              "201                                          984842511                                      \n",
              "\n",
              "          SEXO  EDAD COLEGIO ACADEMICO  ANO DE ESTUDIO  \\\n",
              "0    Masculino    20              POLI               3   \n",
              "1     Femenino    18              POLI               2   \n",
              "2     Femenino    20              POLI               3   \n",
              "3    Masculino    19              POLI               2   \n",
              "4     Femenino    19              POLI               2   \n",
              "..         ...   ...               ...             ...   \n",
              "197   Femenino    21               JUR               4   \n",
              "198  Masculino    20              POLI               3   \n",
              "199  Masculino    18              POLI               1   \n",
              "200  Masculino    20           COCISOH               3   \n",
              "201  Masculino    22              CADE               6   \n",
              "\n",
              "     HORAS DE ESTUDIO SEMANALES   GPA  \n",
              "0                          18.0  3.66  \n",
              "1                          13.0  3.80  \n",
              "2                           8.0  3.33  \n",
              "3                          18.0  3.00  \n",
              "4                           2.5  3.50  \n",
              "..                          ...   ...  \n",
              "197                        18.0  3.90  \n",
              "198                         8.0  2.30  \n",
              "199                        13.0  2.43  \n",
              "200                         8.0  3.40  \n",
              "201                        25.0  3.50  \n",
              "\n",
              "[202 rows x 8 columns]"
            ],
            "text/html": [
              "\n",
              "  <div id=\"df-90c969a3-f4c9-4101-b1f9-ff1e46952721\">\n",
              "    <div class=\"colab-df-container\">\n",
              "      <div>\n",
              "<style scoped>\n",
              "    .dataframe tbody tr th:only-of-type {\n",
              "        vertical-align: middle;\n",
              "    }\n",
              "\n",
              "    .dataframe tbody tr th {\n",
              "        vertical-align: top;\n",
              "    }\n",
              "\n",
              "    .dataframe thead th {\n",
              "        text-align: right;\n",
              "    }\n",
              "</style>\n",
              "<table border=\"1\" class=\"dataframe\">\n",
              "  <thead>\n",
              "    <tr style=\"text-align: right;\">\n",
              "      <th></th>\n",
              "      <th>ID</th>\n",
              "      <th>Ingresa tu numero de teléfono, será utilizado únicamente para verificar tu identidad</th>\n",
              "      <th>SEXO</th>\n",
              "      <th>EDAD</th>\n",
              "      <th>COLEGIO ACADEMICO</th>\n",
              "      <th>ANO DE ESTUDIO</th>\n",
              "      <th>HORAS DE ESTUDIO SEMANALES</th>\n",
              "      <th>GPA</th>\n",
              "    </tr>\n",
              "  </thead>\n",
              "  <tbody>\n",
              "    <tr>\n",
              "      <th>0</th>\n",
              "      <td>1</td>\n",
              "      <td>939683251</td>\n",
              "      <td>Masculino</td>\n",
              "      <td>20</td>\n",
              "      <td>POLI</td>\n",
              "      <td>3</td>\n",
              "      <td>18.0</td>\n",
              "      <td>3.66</td>\n",
              "    </tr>\n",
              "    <tr>\n",
              "      <th>1</th>\n",
              "      <td>2</td>\n",
              "      <td>982094921</td>\n",
              "      <td>Femenino</td>\n",
              "      <td>18</td>\n",
              "      <td>POLI</td>\n",
              "      <td>2</td>\n",
              "      <td>13.0</td>\n",
              "      <td>3.80</td>\n",
              "    </tr>\n",
              "    <tr>\n",
              "      <th>2</th>\n",
              "      <td>3</td>\n",
              "      <td>995485440</td>\n",
              "      <td>Femenino</td>\n",
              "      <td>20</td>\n",
              "      <td>POLI</td>\n",
              "      <td>3</td>\n",
              "      <td>8.0</td>\n",
              "      <td>3.33</td>\n",
              "    </tr>\n",
              "    <tr>\n",
              "      <th>3</th>\n",
              "      <td>4</td>\n",
              "      <td>987159953</td>\n",
              "      <td>Masculino</td>\n",
              "      <td>19</td>\n",
              "      <td>POLI</td>\n",
              "      <td>2</td>\n",
              "      <td>18.0</td>\n",
              "      <td>3.00</td>\n",
              "    </tr>\n",
              "    <tr>\n",
              "      <th>4</th>\n",
              "      <td>5</td>\n",
              "      <td>939603446</td>\n",
              "      <td>Femenino</td>\n",
              "      <td>19</td>\n",
              "      <td>POLI</td>\n",
              "      <td>2</td>\n",
              "      <td>2.5</td>\n",
              "      <td>3.50</td>\n",
              "    </tr>\n",
              "    <tr>\n",
              "      <th>...</th>\n",
              "      <td>...</td>\n",
              "      <td>...</td>\n",
              "      <td>...</td>\n",
              "      <td>...</td>\n",
              "      <td>...</td>\n",
              "      <td>...</td>\n",
              "      <td>...</td>\n",
              "      <td>...</td>\n",
              "    </tr>\n",
              "    <tr>\n",
              "      <th>197</th>\n",
              "      <td>198</td>\n",
              "      <td>983077934</td>\n",
              "      <td>Femenino</td>\n",
              "      <td>21</td>\n",
              "      <td>JUR</td>\n",
              "      <td>4</td>\n",
              "      <td>18.0</td>\n",
              "      <td>3.90</td>\n",
              "    </tr>\n",
              "    <tr>\n",
              "      <th>198</th>\n",
              "      <td>199</td>\n",
              "      <td>963981407</td>\n",
              "      <td>Masculino</td>\n",
              "      <td>20</td>\n",
              "      <td>POLI</td>\n",
              "      <td>3</td>\n",
              "      <td>8.0</td>\n",
              "      <td>2.30</td>\n",
              "    </tr>\n",
              "    <tr>\n",
              "      <th>199</th>\n",
              "      <td>200</td>\n",
              "      <td>995932337</td>\n",
              "      <td>Masculino</td>\n",
              "      <td>18</td>\n",
              "      <td>POLI</td>\n",
              "      <td>1</td>\n",
              "      <td>13.0</td>\n",
              "      <td>2.43</td>\n",
              "    </tr>\n",
              "    <tr>\n",
              "      <th>200</th>\n",
              "      <td>201</td>\n",
              "      <td>992746829</td>\n",
              "      <td>Masculino</td>\n",
              "      <td>20</td>\n",
              "      <td>COCISOH</td>\n",
              "      <td>3</td>\n",
              "      <td>8.0</td>\n",
              "      <td>3.40</td>\n",
              "    </tr>\n",
              "    <tr>\n",
              "      <th>201</th>\n",
              "      <td>202</td>\n",
              "      <td>984842511</td>\n",
              "      <td>Masculino</td>\n",
              "      <td>22</td>\n",
              "      <td>CADE</td>\n",
              "      <td>6</td>\n",
              "      <td>25.0</td>\n",
              "      <td>3.50</td>\n",
              "    </tr>\n",
              "  </tbody>\n",
              "</table>\n",
              "<p>202 rows × 8 columns</p>\n",
              "</div>\n",
              "      <button class=\"colab-df-convert\" onclick=\"convertToInteractive('df-90c969a3-f4c9-4101-b1f9-ff1e46952721')\"\n",
              "              title=\"Convert this dataframe to an interactive table.\"\n",
              "              style=\"display:none;\">\n",
              "        \n",
              "  <svg xmlns=\"http://www.w3.org/2000/svg\" height=\"24px\"viewBox=\"0 0 24 24\"\n",
              "       width=\"24px\">\n",
              "    <path d=\"M0 0h24v24H0V0z\" fill=\"none\"/>\n",
              "    <path d=\"M18.56 5.44l.94 2.06.94-2.06 2.06-.94-2.06-.94-.94-2.06-.94 2.06-2.06.94zm-11 1L8.5 8.5l.94-2.06 2.06-.94-2.06-.94L8.5 2.5l-.94 2.06-2.06.94zm10 10l.94 2.06.94-2.06 2.06-.94-2.06-.94-.94-2.06-.94 2.06-2.06.94z\"/><path d=\"M17.41 7.96l-1.37-1.37c-.4-.4-.92-.59-1.43-.59-.52 0-1.04.2-1.43.59L10.3 9.45l-7.72 7.72c-.78.78-.78 2.05 0 2.83L4 21.41c.39.39.9.59 1.41.59.51 0 1.02-.2 1.41-.59l7.78-7.78 2.81-2.81c.8-.78.8-2.07 0-2.86zM5.41 20L4 18.59l7.72-7.72 1.47 1.35L5.41 20z\"/>\n",
              "  </svg>\n",
              "      </button>\n",
              "      \n",
              "  <style>\n",
              "    .colab-df-container {\n",
              "      display:flex;\n",
              "      flex-wrap:wrap;\n",
              "      gap: 12px;\n",
              "    }\n",
              "\n",
              "    .colab-df-convert {\n",
              "      background-color: #E8F0FE;\n",
              "      border: none;\n",
              "      border-radius: 50%;\n",
              "      cursor: pointer;\n",
              "      display: none;\n",
              "      fill: #1967D2;\n",
              "      height: 32px;\n",
              "      padding: 0 0 0 0;\n",
              "      width: 32px;\n",
              "    }\n",
              "\n",
              "    .colab-df-convert:hover {\n",
              "      background-color: #E2EBFA;\n",
              "      box-shadow: 0px 1px 2px rgba(60, 64, 67, 0.3), 0px 1px 3px 1px rgba(60, 64, 67, 0.15);\n",
              "      fill: #174EA6;\n",
              "    }\n",
              "\n",
              "    [theme=dark] .colab-df-convert {\n",
              "      background-color: #3B4455;\n",
              "      fill: #D2E3FC;\n",
              "    }\n",
              "\n",
              "    [theme=dark] .colab-df-convert:hover {\n",
              "      background-color: #434B5C;\n",
              "      box-shadow: 0px 1px 3px 1px rgba(0, 0, 0, 0.15);\n",
              "      filter: drop-shadow(0px 1px 2px rgba(0, 0, 0, 0.3));\n",
              "      fill: #FFFFFF;\n",
              "    }\n",
              "  </style>\n",
              "\n",
              "      <script>\n",
              "        const buttonEl =\n",
              "          document.querySelector('#df-90c969a3-f4c9-4101-b1f9-ff1e46952721 button.colab-df-convert');\n",
              "        buttonEl.style.display =\n",
              "          google.colab.kernel.accessAllowed ? 'block' : 'none';\n",
              "\n",
              "        async function convertToInteractive(key) {\n",
              "          const element = document.querySelector('#df-90c969a3-f4c9-4101-b1f9-ff1e46952721');\n",
              "          const dataTable =\n",
              "            await google.colab.kernel.invokeFunction('convertToInteractive',\n",
              "                                                     [key], {});\n",
              "          if (!dataTable) return;\n",
              "\n",
              "          const docLinkHtml = 'Like what you see? Visit the ' +\n",
              "            '<a target=\"_blank\" href=https://colab.research.google.com/notebooks/data_table.ipynb>data table notebook</a>'\n",
              "            + ' to learn more about interactive tables.';\n",
              "          element.innerHTML = '';\n",
              "          dataTable['output_type'] = 'display_data';\n",
              "          await google.colab.output.renderOutput(dataTable, element);\n",
              "          const docLink = document.createElement('div');\n",
              "          docLink.innerHTML = docLinkHtml;\n",
              "          element.appendChild(docLink);\n",
              "        }\n",
              "      </script>\n",
              "    </div>\n",
              "  </div>\n",
              "  "
            ]
          },
          "metadata": {},
          "execution_count": 7
        }
      ]
    },
    {
      "cell_type": "markdown",
      "source": [
        "### Sobre los datos cuantitativos deben presentar: media, moda, mediana, varianza y desviación estándar, cuartiles, rango intercuartil, percentil 10, límites superior e inferior"
      ],
      "metadata": {
        "id": "BVnPVHkdBCDU"
      }
    },
    {
      "cell_type": "markdown",
      "source": [
        "####MEDIA"
      ],
      "metadata": {
        "id": "VPKecuV9BRqS"
      }
    },
    {
      "cell_type": "markdown",
      "source": [
        "##### FORMA 1"
      ],
      "metadata": {
        "id": "0MwENCr-Be8F"
      }
    },
    {
      "cell_type": "code",
      "source": [
        "mediaCantidadEdad = data['EDAD'].mean()\n",
        "print(\"MEDIA DE EDAD DE ENCUESTADOS: \" + str(int(mediaCantidadEdad)+1) + \" AÑOS DE EDAD, EXACTAMENTE: \" +  str(mediaCantidadEdad) + \" AÑOS DE EDAD\")\n",
        "\n",
        "mediaANO = data['ANO DE ESTUDIO'].mean()\n",
        "print(\"MEDIA AÑO DE ESTUDIO: \" + str(int(mediaANO)) + \" AÑOS, EXACTAMENTE \" + str(mediaANO) + \" AÑOS\")\n",
        "\n",
        "mediaHORAS = data['HORAS DE ESTUDIO SEMANALES'].mean()\n",
        "print(\"MEDIA HORAS DE ESTUDIO SEMANALES: \" + str(mediaHORAS) + \" HORAS\")\n",
        "\n",
        "mediaGPA = data['GPA'].mean()\n",
        "print(\"MEDIA GPA PONDERADO: \" + str(mediaGPA) + \" GPA\")\n"
      ],
      "metadata": {
        "id": "YvTarBGFBPGe",
        "colab": {
          "base_uri": "https://localhost:8080/"
        },
        "outputId": "04463273-c97a-463d-8b0b-3bff54c0fb48"
      },
      "execution_count": null,
      "outputs": [
        {
          "output_type": "stream",
          "name": "stdout",
          "text": [
            "MEDIA DE EDAD DE ENCUESTADOS: 20 AÑOS DE EDAD, EXACTAMENTE: 19.72772277227723 AÑOS DE EDAD\n",
            "MEDIA AÑO DE ESTUDIO: 2 AÑOS, EXACTAMENTE 2.3366336633663365 AÑOS\n",
            "MEDIA HORAS DE ESTUDIO SEMANALES: 12.217821782178218 HORAS\n",
            "MEDIA GPA PONDERADO: 3.4671188118811878 GPA\n"
          ]
        }
      ]
    },
    {
      "cell_type": "markdown",
      "source": [
        "##### FORMA 2"
      ],
      "metadata": {
        "id": "zACzQz8iKkQw"
      }
    },
    {
      "cell_type": "code",
      "source": [
        "sumatoriaCantidadEdad=0\n",
        "sumatoriaANO = 0\n",
        "sumatoriaHORAS = 0\n",
        "sumatoriaGPA = 0\n",
        "for index,row in data.iterrows():\n",
        "  sumatoriaCantidadEdad+=row['EDAD']\n",
        "  sumatoriaANO += row['ANO DE ESTUDIO'] \n",
        "  sumatoriaHORAS += row['HORAS DE ESTUDIO SEMANALES'] \n",
        "  sumatoriaGPA +=  row['GPA']  \n",
        "meanCantidadEdad = sumatoriaCantidadEdad/len(data)\n",
        "meanANO = sumatoriaANO/len(data)\n",
        "meanHORAS = sumatoriaHORAS/len(data)\n",
        "meanGPA  = sumatoriaGPA/len(data)\n",
        "\n",
        "print(\"MEDIA DE EDAD DE ENCUESTADOS: \" + str(int(meanCantidadEdad)+1) + \" AÑOS DE EDAD, EXACTAMENTE: \" +  str(meanCantidadEdad) + \" AÑOS DE EDAD\")\n",
        "print(\"MEDIA AÑO DE ESTUDIO: \" + str(int(meanANO)) + \" AÑOS, EXACTAMENTE \" + str(meanANO) + \" AÑOS\")\n",
        "print(\"MEDIA HORAS DE ESTUDIO SEMANALES: \" + str(meanHORAS) + \" HORAS\")\n",
        "print(\"MEDIA GPA PONDERADO: \" + str(meanGPA) + \" GPA\")\n"
      ],
      "metadata": {
        "colab": {
          "base_uri": "https://localhost:8080/"
        },
        "id": "FYLPD6adFdOH",
        "outputId": "0ce54ca1-15d3-448c-e3ac-5df9c345b1c5"
      },
      "execution_count": null,
      "outputs": [
        {
          "output_type": "stream",
          "name": "stdout",
          "text": [
            "MEDIA DE EDAD DE ENCUESTADOS: 20 AÑOS DE EDAD, EXACTAMENTE: 19.72772277227723 AÑOS DE EDAD\n",
            "MEDIA AÑO DE ESTUDIO: 2 AÑOS, EXACTAMENTE 2.3366336633663365 AÑOS\n",
            "MEDIA HORAS DE ESTUDIO SEMANALES: 12.217821782178218 HORAS\n",
            "MEDIA GPA PONDERADO: 3.4671188118811878 GPA\n"
          ]
        }
      ]
    },
    {
      "cell_type": "markdown",
      "source": [
        "####MODA"
      ],
      "metadata": {
        "id": "riKUuyxsNIk1"
      }
    },
    {
      "cell_type": "code",
      "source": [
        "modaEDAD = data['EDAD'].mode()\n",
        "print(\"\"\"\n",
        "    Moda EDADES: %d\n",
        "\"\"\" % (modaEDAD))\n",
        "\n",
        "\n",
        "modaANO = data['ANO DE ESTUDIO'].mode()\n",
        "print(\"\"\"\n",
        "    Moda ANO DE ESTUDIO: %d\n",
        "\"\"\" % (modaANO))\n",
        "\n",
        "\n",
        "modaHORAS = data['HORAS DE ESTUDIO SEMANALES'].mode()\n",
        "print(\"\"\"\n",
        "    Moda HORAS DE ESTUDIO SEMANALES: %d\n",
        "\"\"\" % (modaHORAS))\n",
        "\n",
        "\n",
        "modaGPA = data['GPA'].mode()\n",
        "print(\"\"\"\n",
        "    Moda GPA: %d\n",
        "\"\"\" % (modaGPA))"
      ],
      "metadata": {
        "colab": {
          "base_uri": "https://localhost:8080/"
        },
        "id": "zshKUsBkKv1r",
        "outputId": "5f34dc77-5ba2-488d-8c74-4b763e5f2a8e"
      },
      "execution_count": null,
      "outputs": [
        {
          "output_type": "stream",
          "name": "stdout",
          "text": [
            "\n",
            "    Moda EDADES: 18\n",
            "\n",
            "\n",
            "    Moda ANO DE ESTUDIO: 2\n",
            "\n",
            "\n",
            "    Moda HORAS DE ESTUDIO SEMANALES: 8\n",
            "\n",
            "\n",
            "    Moda GPA: 4\n",
            "\n"
          ]
        }
      ]
    },
    {
      "cell_type": "markdown",
      "source": [
        "####MEDIANA"
      ],
      "metadata": {
        "id": "bn3REnQaPLrd"
      }
    },
    {
      "cell_type": "markdown",
      "source": [
        "##### FORMA 1"
      ],
      "metadata": {
        "id": "xkJFuiksPRA3"
      }
    },
    {
      "cell_type": "code",
      "source": [
        "medianaCantidadEdad = data['EDAD'].median()\n",
        "print(\"MEDIANA DE EDAD DE ENCUESTADOS: \" + str(medianaCantidadEdad) + \" AÑOS DE EDAD\")\n",
        "\n",
        "medianaANO = data['ANO DE ESTUDIO'].median()\n",
        "print(\"MEDIANA AÑO DE ESTUDIO: \" + str(medianaANO) + \" AÑOS\")\n",
        "\n",
        "medianaHORAS = data['HORAS DE ESTUDIO SEMANALES'].median()\n",
        "print(\"MEDIANA HORAS DE ESTUDIO SEMANALES: \" + str(medianaHORAS) + \" HORAS\")\n",
        "\n",
        "medianaGPA = data['GPA'].median()\n",
        "print(\"MEDIANA GPA PONDERADO: \" + str(medianaGPA) + \" GPA\")"
      ],
      "metadata": {
        "colab": {
          "base_uri": "https://localhost:8080/"
        },
        "id": "9gmaRS6MNUXA",
        "outputId": "40b177bf-7105-4bf9-ef69-db2b737089a9"
      },
      "execution_count": null,
      "outputs": [
        {
          "output_type": "stream",
          "name": "stdout",
          "text": [
            "MEDIANA DE EDAD DE ENCUESTADOS: 19.0 AÑOS DE EDAD\n",
            "MEDIANA AÑO DE ESTUDIO: 2.0 AÑOS\n",
            "MEDIANA HORAS DE ESTUDIO SEMANALES: 13.0 HORAS\n",
            "MEDIANA GPA PONDERADO: 3.5 GPA\n"
          ]
        }
      ]
    },
    {
      "cell_type": "markdown",
      "source": [
        "##### FORMA 2"
      ],
      "metadata": {
        "id": "iBv5cnHOQfXu"
      }
    },
    {
      "cell_type": "code",
      "source": [
        "cantidadEdadOrdenada=list(data['EDAD'].sort_values()) \n",
        "cantidadAnoOrdenada=list(data['ANO DE ESTUDIO'].sort_values()) \n",
        "cantidadHorasOrdenada=list(data['HORAS DE ESTUDIO SEMANALES'].sort_values()) \n",
        "cantidadGPAOrdenada=list(data['GPA'].sort_values()) \n",
        "if len(data)%2==0:\n",
        "  median_position_1=int((len(data)+1)/2)-1\n",
        "  median_position_2=int(len(data)/2)-1\n",
        "  medianEDAD=(cantidadEdadOrdenada[median_position_1]+cantidadEdadOrdenada[median_position_2])/2\n",
        "  medianANO=(cantidadAnoOrdenada[median_position_1]+cantidadAnoOrdenada[median_position_2])/2\n",
        "  medianHORAS=(cantidadHorasOrdenada[median_position_1]+cantidadHorasOrdenada[median_position_2])/2\n",
        "  medianGPA=(cantidadGPAOrdenada[median_position_1]+cantidadGPAOrdenada[median_position_2])/2\n",
        "\n",
        "else:\n",
        "  median_position=int((len(data)+1)/2)-1\n",
        "  medianEDAD=cantidadEdadOrdenada[median_position]\n",
        "  medianANO=cantidadAnoOrdenada[median_position]\n",
        "  medianHORAS=cantidadHorasOrdenada[median_position]\n",
        "  medianGPA=cantidadGPAOrdenada[median_position]\n",
        "\n",
        "\n",
        "\n",
        "print(\"MEDIANA DE EDAD DE ENCUESTADOS: \" + str(medianEDAD) + \" AÑOS DE EDAD\")\n",
        "print(\"MEDIANA AÑO DE ESTUDIO: \" + str(medianANO) + \" AÑOS\")\n",
        "print(\"MEDIANA HORAS DE ESTUDIO SEMANALES: \" + str(medianHORAS) + \" HORAS\")\n",
        "print(\"MEDIANA GPA PONDERADO: \" + str(medianGPA) + \" GPA\")\n"
      ],
      "metadata": {
        "colab": {
          "base_uri": "https://localhost:8080/"
        },
        "id": "vpoCxn6eQh2H",
        "outputId": "aac93264-dc9b-4338-a317-b2214d1b754e"
      },
      "execution_count": null,
      "outputs": [
        {
          "output_type": "stream",
          "name": "stdout",
          "text": [
            "MEDIANA DE EDAD DE ENCUESTADOS: 19.0 AÑOS DE EDAD\n",
            "MEDIANA AÑO DE ESTUDIO: 2.0 AÑOS\n",
            "MEDIANA HORAS DE ESTUDIO SEMANALES: 13.0 HORAS\n",
            "MEDIANA GPA PONDERADO: 3.5 GPA\n"
          ]
        }
      ]
    },
    {
      "cell_type": "markdown",
      "source": [
        "####VARIANZA"
      ],
      "metadata": {
        "id": "Y0PKydZ3SHAQ"
      }
    },
    {
      "cell_type": "markdown",
      "source": [
        "##### FORMA 1"
      ],
      "metadata": {
        "id": "izzHDOuOSOU-"
      }
    },
    {
      "cell_type": "code",
      "source": [
        "varianzaCantidadEdad = data['EDAD'].var()\n",
        "print(\"VARIANZA DE EDAD DE ENCUESTADOS: \" + str(varianzaCantidadEdad) + \" AÑOS DE EDAD\")\n",
        "\n",
        "varianzaANO = data['ANO DE ESTUDIO'].var()\n",
        "print(\"VARIANZA AÑO DE ESTUDIO: \" + str(varianzaANO) + \" AÑOS\")\n",
        "\n",
        "varianzaHORAS = data['HORAS DE ESTUDIO SEMANALES'].var()\n",
        "print(\"VARIANZA HORAS DE ESTUDIO SEMANALES: \" + str(varianzaHORAS) + \" HORAS\")\n",
        "\n",
        "varianzaGPA = data['GPA'].var()\n",
        "print(\"VARIANZA GPA PONDERADO: \" + str(varianzaGPA) + \" GPA\")"
      ],
      "metadata": {
        "colab": {
          "base_uri": "https://localhost:8080/"
        },
        "id": "OH_Zb-LwSKq6",
        "outputId": "8d9db2fd-11b1-4489-eda8-56b01e26f123"
      },
      "execution_count": null,
      "outputs": [
        {
          "output_type": "stream",
          "name": "stdout",
          "text": [
            "VARIANZA DE EDAD DE ENCUESTADOS: 3.403108221269888 AÑOS DE EDAD\n",
            "VARIANZA AÑO DE ESTUDIO: 1.3488005516969606 AÑOS\n",
            "VARIANZA HORAS DE ESTUDIO SEMANALES: 49.280675828776914 HORAS\n",
            "VARIANZA GPA PONDERADO: 0.1624672096941037 GPA\n"
          ]
        }
      ]
    },
    {
      "cell_type": "markdown",
      "source": [
        "##### FORMA 2"
      ],
      "metadata": {
        "id": "_vZdMeU4SycP"
      }
    },
    {
      "cell_type": "code",
      "source": [
        "sumatoriaEDAD=0\n",
        "sumatoriaANO=0\n",
        "sumatoriaHORAS=0\n",
        "sumatoriaGPA=0\n",
        "for i,r in data.iterrows():\n",
        "  sumatoriaEDAD=sumatoriaEDAD+(r['EDAD']-medianaCantidadEdad)**2\n",
        "  sumatoriaANO=sumatoriaANO+(r['ANO DE ESTUDIO']-medianaANO)**2\n",
        "  sumatoriaHORAS=sumatoriaHORAS+(r['HORAS DE ESTUDIO SEMANALES']-medianaHORAS)**2\n",
        "  sumatoriaGPA=sumatoriaGPA+(r['GPA']-medianaGPA)**2\n",
        "\n",
        "varEDAD=sumatoriaEDAD/(len(data)-1)\n",
        "varANO=sumatoriaANO/(len(data)-1)\n",
        "varHORAS=sumatoriaHORAS/(len(data)-1)\n",
        "varGPA=sumatoriaGPA/(len(data)-1)\n",
        "\n",
        "\n",
        "print(\"VARIANZA DE EDAD DE ENCUESTADOS: \" + str(varEDAD) + \" AÑOS DE EDAD\")\n",
        "print(\"VARIANZA AÑO DE ESTUDIO: \" + str(varANO) + \" AÑOS\")\n",
        "print(\"VARIANZA HORAS DE ESTUDIO SEMANALES: \" + str(varHORAS) + \" HORAS\")\n",
        "print(\"VARIANZA GPA PONDERADO: \" + str(varGPA) + \" GPA\")\n"
      ],
      "metadata": {
        "colab": {
          "base_uri": "https://localhost:8080/"
        },
        "id": "zxzcOFQzSY31",
        "outputId": "fa1ff0df-8544-49b9-f4b3-b5f19e5946a0"
      },
      "execution_count": null,
      "outputs": [
        {
          "output_type": "stream",
          "name": "stdout",
          "text": [
            "VARIANZA DE EDAD DE ENCUESTADOS: 3.9353233830845773 AÑOS DE EDAD\n",
            "VARIANZA AÑO DE ESTUDIO: 1.462686567164179 AÑOS\n",
            "VARIANZA HORAS DE ESTUDIO SEMANALES: 49.8955223880597 HORAS\n",
            "VARIANZA GPA PONDERADO: 0.16355376119402984 GPA\n"
          ]
        }
      ]
    },
    {
      "cell_type": "markdown",
      "source": [
        "####DESVIACIÓN ESTÁNDAR"
      ],
      "metadata": {
        "id": "tF45CTQoUOlx"
      }
    },
    {
      "cell_type": "markdown",
      "source": [
        "##### FORMA 1"
      ],
      "metadata": {
        "id": "zaJuVBJCUc_w"
      }
    },
    {
      "cell_type": "code",
      "source": [
        "stdEDAD = data['EDAD'].std()\n",
        "print(\"DESVIACIÓN ESTÁNDAR DE EDAD DE ENCUESTADOS: \" + str(stdEDAD) + \" AÑOS DE EDAD\")\n",
        "\n",
        "stdANO = data['ANO DE ESTUDIO'].std()\n",
        "print(\"DESVIACIÓN ESTÁNDAR AÑO DE ESTUDIO: \" + str(stdANO) + \" AÑOS\")\n",
        "\n",
        "stdHORAS = data['HORAS DE ESTUDIO SEMANALES'].std()\n",
        "print(\"DESVIACIÓN ESTÁNDAR HORAS DE ESTUDIO SEMANALES: \" + str(stdHORAS) + \" HORAS\")\n",
        "\n",
        "stdGPA = data['GPA'].std()\n",
        "print(\"DESVIACIÓN ESTÁNDAR GPA PONDERADO: \" + str(stdGPA) + \" GPA\")\n"
      ],
      "metadata": {
        "colab": {
          "base_uri": "https://localhost:8080/"
        },
        "id": "vNhEDeNmUbnZ",
        "outputId": "c7703275-5f0f-47c8-d8a1-ba5a18ed49ca"
      },
      "execution_count": null,
      "outputs": [
        {
          "output_type": "stream",
          "name": "stdout",
          "text": [
            "DESVIACIÓN ESTÁNDAR DE EDAD DE ENCUESTADOS: 1.8447515337491627 AÑOS DE EDAD\n",
            "DESVIACIÓN ESTÁNDAR AÑO DE ESTUDIO: 1.1613787287947719 AÑOS\n",
            "DESVIACIÓN ESTÁNDAR HORAS DE ESTUDIO SEMANALES: 7.020019645896792 HORAS\n",
            "DESVIACIÓN ESTÁNDAR GPA PONDERADO: 0.4030722139940977 GPA\n"
          ]
        }
      ]
    },
    {
      "cell_type": "markdown",
      "source": [
        "##### FORMA 2"
      ],
      "metadata": {
        "id": "23x0RxQkV9ja"
      }
    },
    {
      "cell_type": "code",
      "source": [
        "stdEDAD = math.sqrt(varEDAD)\n",
        "print(\"DESVIACIÓN ESTÁNDAR DE EDAD DE ENCUESTADOS: \" + str(stdEDAD) + \" AÑOS DE EDAD\")\n",
        "\n",
        "stdANO = math.sqrt(varANO)\n",
        "print(\"DESVIACIÓN ESTÁNDAR AÑO DE ESTUDIO: \" + str(stdANO) + \" AÑOS\")\n",
        "\n",
        "stdHORAS = math.sqrt(varHORAS)\n",
        "print(\"DESVIACIÓN ESTÁNDAR HORAS DE ESTUDIO SEMANALES: \" + str(stdHORAS) + \" HORAS\")\n",
        "\n",
        "stdGPA = math.sqrt(varGPA)\n",
        "print(\"DESVIACIÓN ESTÁNDAR GPA PONDERADO: \" + str(stdGPA) + \" GPA\")\n"
      ],
      "metadata": {
        "colab": {
          "base_uri": "https://localhost:8080/"
        },
        "id": "OtL3nBXAUN4S",
        "outputId": "22332239-7a27-45db-ce6e-9e3eb6a9b328"
      },
      "execution_count": null,
      "outputs": [
        {
          "output_type": "stream",
          "name": "stdout",
          "text": [
            "DESVIACIÓN ESTÁNDAR DE EDAD DE ENCUESTADOS: 1.9837649515717777 AÑOS DE EDAD\n",
            "DESVIACIÓN ESTÁNDAR AÑO DE ESTUDIO: 1.2094157958139042 AÑOS\n",
            "DESVIACIÓN ESTÁNDAR HORAS DE ESTUDIO SEMANALES: 7.0636762658023695 HORAS\n",
            "DESVIACIÓN ESTÁNDAR GPA PONDERADO: 0.40441780523862925 GPA\n"
          ]
        }
      ]
    },
    {
      "cell_type": "markdown",
      "source": [
        "###CUARTILES"
      ],
      "metadata": {
        "id": "H0VruhZSXL6j"
      }
    },
    {
      "cell_type": "code",
      "source": [
        "cantidadEdadOrdenada=list(data['EDAD'].sort_values()) \n",
        "cantidadAnoOrdenada=list(data['ANO DE ESTUDIO'].sort_values()) \n",
        "cantidadHorasOrdenada=list(data['HORAS DE ESTUDIO SEMANALES'].sort_values()) \n",
        "cantidadGPAOrdenada=list(data['GPA'].sort_values()) \n",
        "\n",
        "#CUANTOS DATOS TENGO?\n",
        "cantidadDeDatos = len(cantidadEdadOrdenada)\n",
        "print(\"CANTIDAD DE DATOS QUE TENGO: \"+ str(cantidadDeDatos))\n",
        "'''\n",
        " i = kn/100 donde k es el numero de cuartil y n es la cantidad de datos, \n",
        " esta formula nos da de resultado la posicion del valor del cuartil, si el valor de posicion es entero se debe pomediar i y i+1, \n",
        " si no es entero, la posicion del percentil es el entero inmediato superior\n",
        "'''\n"
      ],
      "metadata": {
        "colab": {
          "base_uri": "https://localhost:8080/"
        },
        "id": "9yF_IdNeTJcq",
        "outputId": "69d74622-02de-4a32-b46e-34df4d773ee1"
      },
      "execution_count": null,
      "outputs": [
        {
          "output_type": "stream",
          "name": "stdout",
          "text": [
            "CANTIDAD DE DATOS QUE TENGO: 202\n"
          ]
        }
      ]
    },
    {
      "cell_type": "markdown",
      "source": [
        "##### CUARTIL 1, 2, 3 y 4"
      ],
      "metadata": {
        "id": "uH6XQ8r8ZphW"
      }
    },
    {
      "cell_type": "code",
      "source": [
        "cuartil1 = (25*(cantidadDeDatos))/100\n",
        "cuartil2 = (50*(cantidadDeDatos))/100\n",
        "cuartil3 = (75*(cantidadDeDatos))/100\n",
        "\n",
        "print('POSICION CUARTIL 1:' + str(cuartil1))\n",
        "print('POSICION CUARTIL 2:' + str(cuartil2))\n",
        "print('POSICION CUARTIL 3:' + str(cuartil3))\n",
        "\n",
        "\n",
        "cuartil1EdadMin = cantidadEdadOrdenada[int(cuartil1)]\n",
        "cuartil1EdadMax = cantidadEdadOrdenada[int(cuartil1)+1]\n",
        "cuartil2Edad = cantidadEdadOrdenada[int(cuartil2)]\n",
        "cuartil3EdadMin = cantidadEdadOrdenada[int(cuartil3)]\n",
        "cuartil3EdadMax = cantidadEdadOrdenada[int(cuartil3)+1]\n",
        "\n",
        "print()\n",
        "print(\"CUARTIL 1 PARA LA EDAD:\" + str((cuartil1EdadMax + cuartil1EdadMin)/2) + \" AÑOS\")\n",
        "print(\"CUARTIL 2 PARA LA EDAD:\" + str(cuartil2Edad) + \" AÑOS\")\n",
        "print(\"CUARTIL 3 PARA LA EDAD:\" + str((cuartil3EdadMax + cuartil3EdadMin)/2) + \" AÑOS\")\n",
        "\n",
        "\n",
        "cuartil1AnoMin = cantidadAnoOrdenada[int(cuartil1)]\n",
        "cuartil1AnoMax = cantidadAnoOrdenada[int(cuartil1)+1]\n",
        "cuartil2Ano = cantidadAnoOrdenada[int(cuartil2)]\n",
        "cuartil3AnoMin = cantidadAnoOrdenada[int(cuartil3)]\n",
        "cuartil3AnoMax = cantidadAnoOrdenada[int(cuartil3)+1]\n",
        "\n",
        "print()\n",
        "print(\"CUARTIL 1 PARA AÑO DE ESTUDIO:\" + str((cuartil1AnoMax + cuartil1AnoMin)/2) + \" AÑOS\")\n",
        "print(\"CUARTIL 2 PARA AÑO DE ESTUDIO:\" + str(cuartil2Ano) + \" AÑOS\")\n",
        "print(\"CUARTIL 3 PARA AÑO DE ESTUDIO:\" + str((cuartil3AnoMax + cuartil3AnoMin)/2) + \" AÑOS\")\n",
        "\n",
        "\n",
        "cuartil1HorasMin = cantidadHorasOrdenada[int(cuartil1)]\n",
        "cuartil1HorasMax = cantidadHorasOrdenada[int(cuartil1)+1]\n",
        "cuartil2Horas = cantidadHorasOrdenada[int(cuartil2)]\n",
        "cuartil3HorasMin = cantidadHorasOrdenada[int(cuartil3)]\n",
        "cuartil3HorasMax = cantidadHorasOrdenada[int(cuartil3)+1]\n",
        "\n",
        "print()\n",
        "print(\"CUARTIL 1 HORAS DE ESTUDIO SEMANALES:\" + str((cuartil1HorasMax + cuartil1HorasMin)/2) + \" HORAS\")\n",
        "print(\"CUARTIL 2 HORAS DE ESTUDIO SEMANALES:\" + str(cuartil2Horas) + \" HORAS\")\n",
        "print(\"CUARTIL 3 HORAS DE ESTUDIO SEMANALES:\" + str((cuartil3HorasMax + cuartil3HorasMin)/2) + \" HORAS\")\n",
        "\n",
        "\n",
        "cuartil1GPAMin = cantidadGPAOrdenada[int(cuartil1)]\n",
        "cuartil1GPAMax = cantidadGPAOrdenada[int(cuartil1)+1]\n",
        "cuartil2GPA = cantidadGPAOrdenada[int(cuartil2)]\n",
        "cuartil3GPAMin = cantidadGPAOrdenada[int(cuartil3)]\n",
        "cuartil3GPAMax = cantidadGPAOrdenada[int(cuartil3)+1]\n",
        "\n",
        "print()\n",
        "print(\"CUARTIL 1 PARA GPA:\" + str((cuartil1GPAMax + cuartil1GPAMin)/2))\n",
        "print(\"CUARTIL 2 PARA GPA:\" + str(cuartil2GPA))\n",
        "print(\"CUARTIL 3 PARA GPA:\" + str((cuartil3GPAMax + cuartil3GPAMin)/2))\n",
        "\n"
      ],
      "metadata": {
        "colab": {
          "base_uri": "https://localhost:8080/"
        },
        "id": "x7_zDzmwY1Y1",
        "outputId": "ae2d11ce-8036-462b-f77e-b4d9ff8afa32"
      },
      "execution_count": null,
      "outputs": [
        {
          "output_type": "stream",
          "name": "stdout",
          "text": [
            "POSICION CUARTIL 1:50.5\n",
            "POSICION CUARTIL 2:101.0\n",
            "POSICION CUARTIL 3:151.5\n",
            "\n",
            "CUARTIL 1 PARA LA EDAD:18.0 AÑOS\n",
            "CUARTIL 2 PARA LA EDAD:19 AÑOS\n",
            "CUARTIL 3 PARA LA EDAD:20.0 AÑOS\n",
            "\n",
            "CUARTIL 1 PARA AÑO DE ESTUDIO:1.0 AÑOS\n",
            "CUARTIL 2 PARA AÑO DE ESTUDIO:2 AÑOS\n",
            "CUARTIL 3 PARA AÑO DE ESTUDIO:3.0 AÑOS\n",
            "\n",
            "CUARTIL 1 HORAS DE ESTUDIO SEMANALES:8.0 HORAS\n",
            "CUARTIL 2 HORAS DE ESTUDIO SEMANALES:13.0 HORAS\n",
            "CUARTIL 3 HORAS DE ESTUDIO SEMANALES:18.0 HORAS\n",
            "\n",
            "CUARTIL 1 PARA GPA:3.2\n",
            "CUARTIL 2 PARA GPA:3.5\n",
            "CUARTIL 3 PARA GPA:3.8\n"
          ]
        }
      ]
    },
    {
      "cell_type": "markdown",
      "source": [
        "### RANGO INTERCUARTIL"
      ],
      "metadata": {
        "id": "wZrkIg-OfurE"
      }
    },
    {
      "cell_type": "code",
      "source": [
        "#CALCULAMOS RESTANDO Q3 - Q1\n",
        "rangoIntercuartil = cuartil3 - cuartil1\n",
        "print('RANGO INTERCUARTIL: ' + str(rangoIntercuartil))"
      ],
      "metadata": {
        "colab": {
          "base_uri": "https://localhost:8080/"
        },
        "id": "LxlKLLiaZ5vE",
        "outputId": "91e39d4a-105d-4099-f88d-1bc9fe201104"
      },
      "execution_count": null,
      "outputs": [
        {
          "output_type": "stream",
          "name": "stdout",
          "text": [
            "RANGO INTERCUARTIL: 101.0\n"
          ]
        }
      ]
    },
    {
      "cell_type": "markdown",
      "source": [
        "### PERCENTIL 1O"
      ],
      "metadata": {
        "id": "vT9EolD7hLnN"
      }
    },
    {
      "cell_type": "code",
      "source": [
        "# formula del percentil es = (p/100)*n\n",
        "percentil10 = ((10)/100)*cantidadDeDatos\n",
        "print('POSICION PERCENTIL  10: ' + str(int(percentil10+1)))\n",
        "print('PERCENTIL 10 PARA LA EDAD: ' + str(cantidadEdadOrdenada[int(percentil10+1)]) + \" ANOS\")\n",
        "print('PERCENTIL 10 PARA AÑO DE ESTUDIO: ' + str(cantidadAnoOrdenada[int(percentil10+1)])+ \" ANOS\")\n",
        "print('PERCENTIL 10 PARA HORAS DE ESTUDIO SEMANALES: ' + str(cantidadHorasOrdenada[int(percentil10+1)])+ \" HORAS\")\n",
        "print('PERCENTIL 10 PARA GPA: ' + str(cantidadGPAOrdenada[int(percentil10+1)]))\n"
      ],
      "metadata": {
        "colab": {
          "base_uri": "https://localhost:8080/"
        },
        "id": "xX7WjQO6gOJK",
        "outputId": "a30fb927-dbb4-4d61-96df-ca2de64d6e38"
      },
      "execution_count": null,
      "outputs": [
        {
          "output_type": "stream",
          "name": "stdout",
          "text": [
            "POSICION PERCENTIL  10: 21\n",
            "PERCENTIL 10 PARA LA EDAD: 18 ANOS\n",
            "PERCENTIL 10 PARA AÑO DE ESTUDIO: 1 ANOS\n",
            "PERCENTIL 10 PARA HORAS DE ESTUDIO SEMANALES: 2.5 HORAS\n",
            "PERCENTIL 10 PARA GPA: 3.0\n"
          ]
        }
      ]
    },
    {
      "cell_type": "markdown",
      "source": [
        "### LIMITE SUPERIOR E INFERIOR"
      ],
      "metadata": {
        "id": "NiCd3xRBk0TA"
      }
    },
    {
      "cell_type": "markdown",
      "source": [
        "##### EL ÚNICO DATO DEL CUAL SE PUEDE OBTENER EL LÍMITE SUPERIOR E INFERIOR DEBIDO A QUE ESTÁ AGRUPADO ES DE LAS HORAS DE ESTUDIO SEMANALES"
      ],
      "metadata": {
        "id": "yKdqJpcyk5yi"
      }
    },
    {
      "cell_type": "code",
      "source": [
        "listaDatosAgrupadosInferior = [0,6,21,16,11,25]\n",
        "listaDatosAgrupadosInferior.sort()\n",
        "print(\"DATOS AGRUPADOS HORAS DE ESTUDIO LIMITE INFERIOR: \" + str(listaDatosAgrupadosInferior))\n",
        "\n",
        "listaDatosAgrupadosSuperior = [10,25,20,15,5]\n",
        "listaDatosAgrupadosSuperior.sort()\n",
        "print(\"DATOS AGRUPADOS HORAS DE ESTUDIO LIMITE SUPERIOR: \" + str(listaDatosAgrupadosSuperior))"
      ],
      "metadata": {
        "colab": {
          "base_uri": "https://localhost:8080/"
        },
        "id": "4MVP0tXQhkmT",
        "outputId": "1c6dece7-38f0-44e2-aa1e-5f2b0b10bb80"
      },
      "execution_count": null,
      "outputs": [
        {
          "output_type": "stream",
          "name": "stdout",
          "text": [
            "DATOS AGRUPADOS HORAS DE ESTUDIO LIMITE INFERIOR: [0, 6, 11, 16, 21, 25]\n",
            "DATOS AGRUPADOS HORAS DE ESTUDIO LIMITE SUPERIOR: [5, 10, 15, 20, 25]\n"
          ]
        }
      ]
    },
    {
      "cell_type": "markdown",
      "source": [
        "##### PARA OTROS DATOS"
      ],
      "metadata": {
        "id": "hNkEGgue0w4o"
      }
    },
    {
      "cell_type": "code",
      "source": [
        "print(\"EDAD SUPERIOR: \" + str(33) + \" EDAD INFERIOR: \" + str(18) )\n",
        "print(\"AÑO DE ESTUDIO SUPERIOR: \" + str(6) + \" AÑO DE ESTUDIO INFERIOR: \" + str(1) )\n",
        "print(\"GPA SUPERIOR: \" + str(4) + \" GPA INFERIOR: \" + str(2) )"
      ],
      "metadata": {
        "id": "qequxIwQm7ft",
        "colab": {
          "base_uri": "https://localhost:8080/"
        },
        "outputId": "2342b505-6c21-493b-b3db-98bf25afd696"
      },
      "execution_count": null,
      "outputs": [
        {
          "output_type": "stream",
          "name": "stdout",
          "text": [
            "EDAD SUPERIOR: 33 EDAD INFERIOR: 18\n",
            "AÑO DE ESTUDIO SUPERIOR: 6 AÑO DE ESTUDIO INFERIOR: 1\n",
            "GPA SUPERIOR: 4 GPA INFERIOR: 2\n"
          ]
        }
      ]
    },
    {
      "cell_type": "markdown",
      "source": [
        "###Deben presentar dos box plots comparativos (uno por cada grupo de variables), y dos gr ́aficos más que sirvan para comparar las variables cuantitativas de los dos grupos de datos."
      ],
      "metadata": {
        "id": "gCo9jRq-MoVn"
      }
    },
    {
      "cell_type": "markdown",
      "source": [
        "Box plots"
      ],
      "metadata": {
        "id": "p8Tr7tOjM3KI"
      }
    },
    {
      "cell_type": "code",
      "source": [
        "#Box plots comparativo entre las edades de hombres y mujeres\n",
        "listEdad = list(data['EDAD'])\n",
        "listSexo = list(data['SEXO'])\n",
        "edad_hombres=[]\n",
        "edad_mujeres=[]\n",
        "for i in range(202):\n",
        "  edad = listEdad[i]\n",
        "  if(listSexo[i] == \"Masculino\"):\n",
        "    edad_hombres.append(edad)\n",
        "  elif(listSexo[i] == \"Femenino\"):\n",
        "    edad_mujeres.append(edad)\n",
        "print(edad_mujeres)\n",
        "print(edad_hombres)\n",
        "print(len(edad_mujeres))\n",
        "print(len(edad_hombres))\n",
        "\n",
        "plt.title(\"Edad Hombres\")\n",
        "plt.boxplot(edad_hombres, vert=False)"
      ],
      "metadata": {
        "id": "Hs4K_0NwM55_"
      },
      "execution_count": null,
      "outputs": []
    },
    {
      "cell_type": "code",
      "source": [
        "plt.title(\"Edad Mujeres\")\n",
        "plt.boxplot(edad_mujeres, vert=False)"
      ],
      "metadata": {
        "id": "DVKPMtdJZhL_"
      },
      "execution_count": null,
      "outputs": []
    },
    {
      "cell_type": "code",
      "source": [
        "#Box plots comparativo entre el año de estudio de hombres y mujeres\n",
        "listYear = list(data['ANO DE ESTUDIO'])\n",
        "listSexo = list(data['SEXO'])\n",
        "year_hombres=[]\n",
        "year_mujeres=[]\n",
        "for i in range(202):\n",
        "  year = listYear[i]\n",
        "  if(listSexo[i] == \"Masculino\"):\n",
        "    year_hombres.append(year)\n",
        "  elif(listSexo[i] == \"Femenino\"):\n",
        "    year_mujeres.append(year)\n",
        "print(year_mujeres)\n",
        "print(year_hombres)\n",
        "print(len(year_mujeres))\n",
        "print(len(year_hombres))\n",
        "\n",
        "plt.title(\"Año de Estudio Hombres\")\n",
        "plt.boxplot(year_hombres, vert=False)"
      ],
      "metadata": {
        "id": "QT3BQN7oPJqx"
      },
      "execution_count": null,
      "outputs": []
    },
    {
      "cell_type": "code",
      "source": [
        "plt.title(\"Año de Estudio Mujeres\")\n",
        "plt.boxplot(year_mujeres, vert=False)"
      ],
      "metadata": {
        "id": "E87N0fQnayjA"
      },
      "execution_count": null,
      "outputs": []
    },
    {
      "cell_type": "code",
      "source": [
        "#Box plots comparativo entre las horas de estudio semanales de hombres y mujeres\n",
        "listHoras = list(data['HORAS DE ESTUDIO SEMANALES'])\n",
        "listSexo = list(data['SEXO'])\n",
        "horas_hombres=[]\n",
        "horas_mujeres=[]\n",
        "for i in range(202):\n",
        "  horas = listHoras[i]\n",
        "  if(listSexo[i] == \"Masculino\"):\n",
        "    horas_hombres.append(horas)\n",
        "  elif(listSexo[i] == \"Femenino\"):\n",
        "    horas_mujeres.append(horas)\n",
        "\n",
        "print(horas_mujeres)\n",
        "print(horas_hombres)\n",
        "print(len(horas_mujeres))\n",
        "print(len(horas_hombres))\n",
        "\n",
        "plt.title(\"Horas de Estudio Semanales Hombres\")\n",
        "plt.boxplot(horas_hombres, vert=False)"
      ],
      "metadata": {
        "id": "0rjt5hudPxdq"
      },
      "execution_count": null,
      "outputs": []
    },
    {
      "cell_type": "code",
      "source": [
        "plt.title(\"Horas de Estudio Semanales Mujeres\")\n",
        "plt.boxplot(horas_mujeres, vert=False)"
      ],
      "metadata": {
        "id": "pI55VEeEcDzV"
      },
      "execution_count": null,
      "outputs": []
    },
    {
      "cell_type": "code",
      "source": [
        "#Box plots comparativo entre el GPA Ponderado de hombres y mujeres\n",
        "listGPA = list(data['GPA'])\n",
        "listSexo = list(data['SEXO'])\n",
        "gpa_hombres=[]\n",
        "gpa_mujeres=[]\n",
        "for i in range(202):\n",
        "  gpa = listGPA[i]\n",
        "  if(listSexo[i] == \"Masculino\"):\n",
        "    gpa_hombres.append(gpa)\n",
        "  elif(listSexo[i] == \"Femenino\"):\n",
        "    gpa_mujeres.append(gpa)\n",
        "\n",
        "print(gpa_mujeres)\n",
        "print(gpa_hombres)\n",
        "print(len(gpa_mujeres))\n",
        "print(len(gpa_hombres))\n",
        "\n",
        "plt.title(\"GPA Ponderado Hombres\")\n",
        "plt.boxplot(gpa_hombres, vert=False)"
      ],
      "metadata": {
        "id": "COK6mXvtPwqV"
      },
      "execution_count": null,
      "outputs": []
    },
    {
      "cell_type": "code",
      "source": [
        "plt.title(\"GPA Ponderado Mujeres\")\n",
        "plt.boxplot(gpa_mujeres, vert=False)"
      ],
      "metadata": {
        "id": "XRuJC4p0dH0b"
      },
      "execution_count": null,
      "outputs": []
    },
    {
      "cell_type": "markdown",
      "source": [
        "###Deben presentar al menos dos formas diferentes de representar y comparar las variables cualitativas de los dos grupos de datos"
      ],
      "metadata": {
        "id": "6pdvhCoJLKS4"
      }
    },
    {
      "cell_type": "markdown",
      "source": [
        "Pie Chart"
      ],
      "metadata": {
        "id": "zIt9Oc4ALnjK"
      }
    },
    {
      "cell_type": "code",
      "source": [
        "listSexo = list(data['SEXO'])\n",
        "\n",
        "quantityMas = 0\n",
        "quantityFem = 0\n",
        "quantityOther = 0\n",
        "for i in listSexo:\n",
        "  if(i == \"Masculino\"):\n",
        "    quantityMas+=1\n",
        "  elif(i == \"Femenino\"):\n",
        "    quantityFem+=1\n",
        "  else:\n",
        "    quantityOther += 1\n",
        "\n",
        "\n",
        "quantitySexo = [quantityMas,quantityFem, quantityOther]\n",
        "\n",
        "\n",
        "\n",
        "arraySexo = np.array(quantitySexo)\n",
        "arraySexo\n",
        "\n",
        "Sexo = [\"MASCULINO\",\"FEMENINO\", \"OTRO\"] \n",
        "\n",
        "\n",
        "plt.pie(arraySexo, labels = Sexo)\n",
        "plt.show() "
      ],
      "metadata": {
        "id": "Ad1MEkpo1QMN",
        "colab": {
          "base_uri": "https://localhost:8080/",
          "height": 248
        },
        "outputId": "b962ae5a-d595-4164-88bc-28ed633993dc"
      },
      "execution_count": null,
      "outputs": [
        {
          "output_type": "display_data",
          "data": {
            "text/plain": [
              "<Figure size 432x288 with 1 Axes>"
            ],
            "image/png": "[encoded data removed]"
          },
          "metadata": {}
        }
      ]
    },
    {
      "cell_type": "code",
      "source": [
        "listColegio = list(data['COLEGIO ACADEMICO'])\n",
        "\n",
        "quantityPOLI = 0\n",
        "quantityJUR = 0\n",
        "quantityCADE = 0\n",
        "quantityCADI = 0\n",
        "quantityCOCOA = 0\n",
        "quantityCOCSA = 0\n",
        "quantityCHAT = 0\n",
        "quantityCOM = 0\n",
        "quantityCOCISOH = 0\n",
        "quantityCOCIBA = 0\n",
        "for i in listColegio:\n",
        "  if(i == \"POLI\"):\n",
        "    quantityPOLI+=1\n",
        "  if(i == \"JUR\"):\n",
        "    quantityJUR+=1\n",
        "  if(i == \"CADE\"):\n",
        "    quantityCADE+=1\n",
        "  if(i == \"CADI\"):\n",
        "    quantityCADI+=1\n",
        "  if(i == \"COCOA\"):\n",
        "    quantityCOCOA+=1\n",
        "  if(i == \"COCSA\"):\n",
        "    quantityCOCOA+=1\n",
        "  if(i == \"CHAT\"):\n",
        "    quantityCHAT+=1\n",
        "  if(i == \"COM\"):\n",
        "    quantityCOM+=1\n",
        "  if(i == \"COCISOH\"):\n",
        "    quantityCOCISOH+=1\n",
        "  else:\n",
        "    quantityCOCIBA += 1\n",
        "\n",
        "\n",
        "quantityColegio = [quantityPOLI,quantityJUR,quantityCADE,quantityCADI,quantityCOCOA,quantityCOCSA,quantityCHAT,quantityCOM,quantityCOCISOH]\n",
        "arrayColegio = np.array(quantityColegio)\n",
        "arrayColegio\n",
        "\n",
        "myLabels = [\"POLI\",\"JUR\", \"CADE\",\"CADI\", \"COCOA\", \"COCSA\", \"CHAT\", \"COM\", \"COCISOH\"] \n",
        "plt.pie(arrayColegio, labels = myLabels)\n",
        "plt.show() "
      ],
      "metadata": {
        "id": "8vM9r_Sl6jT1",
        "colab": {
          "base_uri": "https://localhost:8080/",
          "height": 248
        },
        "outputId": "d8764feb-0f62-40a1-d323-45f5637082a6"
      },
      "execution_count": null,
      "outputs": [
        {
          "output_type": "display_data",
          "data": {
            "text/plain": [
              "<Figure size 432x288 with 1 Axes>"
            ],
            "image/png": "[encoded data removed]"
          },
          "metadata": {}
        }
      ]
    },
    {
      "cell_type": "markdown",
      "source": [
        "Bar Graph"
      ],
      "metadata": {
        "id": "9kQdLttAAZNT"
      }
    },
    {
      "cell_type": "code",
      "source": [
        "plt.bar(Sexo,quantitySexo)\n",
        "plt.show"
      ],
      "metadata": {
        "id": "VWgh4HooAb-8",
        "colab": {
          "base_uri": "https://localhost:8080/",
          "height": 282
        },
        "outputId": "f4864d10-a7c8-41fa-a928-f8fc2f86328a"
      },
      "execution_count": null,
      "outputs": [
        {
          "output_type": "execute_result",
          "data": {
            "text/plain": [
              "<function matplotlib.pyplot.show>"
            ]
          },
          "metadata": {},
          "execution_count": 11
        },
        {
          "output_type": "display_data",
          "data": {
            "text/plain": [
              "<Figure size 432x288 with 1 Axes>"
            ],
            "image/png": "[encoded data removed]"
          },
          "metadata": {
            "needs_background": "light"
          }
        }
      ]
    },
    {
      "cell_type": "code",
      "source": [
        "plt.bar(colegios,quantityColegio)\n",
        "plt.show"
      ],
      "metadata": {
        "id": "Wyt-giRLGM6l",
        "colab": {
          "base_uri": "https://localhost:8080/",
          "height": 184
        },
        "outputId": "b63a0628-35ff-48ce-bc26-0bc524feca87"
      },
      "execution_count": null,
      "outputs": [
        {
          "output_type": "error",
          "ename": "NameError",
          "evalue": "ignored",
          "traceback": [
            "\u001b[0;31m---------------------------------------------------------------------------\u001b[0m",
            "\u001b[0;31mNameError\u001b[0m                                 Traceback (most recent call last)",
            "\u001b[0;32m<ipython-input-14-48083e94a0dd>\u001b[0m in \u001b[0;36m<module>\u001b[0;34m()\u001b[0m\n\u001b[0;32m----> 1\u001b[0;31m \u001b[0mplt\u001b[0m\u001b[0;34m.\u001b[0m\u001b[0mbar\u001b[0m\u001b[0;34m(\u001b[0m\u001b[0mcolegios\u001b[0m\u001b[0;34m,\u001b[0m\u001b[0mquantityColegio\u001b[0m\u001b[0;34m)\u001b[0m\u001b[0;34m\u001b[0m\u001b[0;34m\u001b[0m\u001b[0m\n\u001b[0m\u001b[1;32m      2\u001b[0m \u001b[0mplt\u001b[0m\u001b[0;34m.\u001b[0m\u001b[0mshow\u001b[0m\u001b[0;34m\u001b[0m\u001b[0;34m\u001b[0m\u001b[0m\n",
            "\u001b[0;31mNameError\u001b[0m: name 'colegios' is not defined"
          ]
        }
      ]
    }
  ]
}